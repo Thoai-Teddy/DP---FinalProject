{
 "cells": [
  {
   "cell_type": "markdown",
   "id": "c0fc206c",
   "metadata": {},
   "source": [
    "# ĐỒ ÁN CUỐI KỲ - PHÂN TÍCH DỮ LIỆU BẢO TOÀN TÍNH RIÊNG TƯ"
   ]
  },
  {
   "cell_type": "markdown",
   "id": "fcce2c43",
   "metadata": {},
   "source": [
    "## THÀNH VIÊN NHÓM:\n",
    "\n",
    "- 22120304 - Nguyễn Thị Kim Quý\n",
    "\n",
    "- 22120338 - Đỗ Hạnh Thảo\n",
    "\n",
    "- 22120352 - Phạm Nguyễn Quang Thoại"
   ]
  },
  {
   "cell_type": "code",
   "execution_count": 2,
   "id": "3dd2509f",
   "metadata": {},
   "outputs": [],
   "source": [
    "import pandas as pd\n",
    "import numpy as np\n",
    "import re"
   ]
  },
  {
   "cell_type": "markdown",
   "id": "128bdee9",
   "metadata": {},
   "source": [
    "### 1. Đọc file"
   ]
  },
  {
   "cell_type": "code",
   "execution_count": 11,
   "id": "f61751d3",
   "metadata": {},
   "outputs": [
    {
     "name": "stdout",
     "output_type": "stream",
     "text": [
      "Số dòng trong train.csv 1317\n",
      "\n",
      "Số cột: 20\n",
      "Tên các cột: ['Make', 'Model', 'Price', 'Year', 'Kilometer', 'Fuel Type', 'Transmission', 'Location', 'Color', 'Owner', 'Seller Type', 'Engine', 'Max Power', 'Max Torque', 'Drivetrain', 'Length', 'Width', 'Height', 'Seating Capacity', 'Fuel Tank Capacity']\n",
      "\n",
      " 5 dòng đầu trong train.csv:\n",
      "\n",
      "        Make                                    Model    Price  Year  \\\n",
      "0  Ssangyong                               Rexton RX7   975000  2013   \n",
      "1    Hyundai  Creta SX (O) 1.5 Petrol CVT [2020-2022]  1748999  2022   \n",
      "2       Audi                     A4 2.0 TDI (143 bhp)  1150000  2012   \n",
      "3    Hyundai        Grand i10 Magna AT 1.2 Kappa VTVT   549000  2018   \n",
      "4    Hyundai                       Elite i20 Asta 1.2   675000  2017   \n",
      "\n",
      "   Kilometer Fuel Type Transmission   Location   Color   Owner Seller Type  \\\n",
      "0      72000    Diesel    Automatic  Bangalore  Silver   First  Individual   \n",
      "1       2670    Petrol    Automatic    Kolkata   White   First  Individual   \n",
      "2      40031    Diesel    Automatic       Pune    Blue  Second  Individual   \n",
      "3      53000    Petrol    Automatic  Hyderabad   White  Second  Individual   \n",
      "4      48591    Petrol       Manual  Hyderabad   White   First  Individual   \n",
      "\n",
      "    Engine           Max Power         Max Torque Drivetrain  Length   Width  \\\n",
      "0  2696 cc  184 bhp @ 4000 rpm  402 Nm @ 3000 rpm        AWD  4755.0  1900.0   \n",
      "1  1497 cc  113 bhp @ 6300 rpm  144 Nm @ 4500 rpm        FWD  4300.0  1790.0   \n",
      "2      NaN                 NaN                NaN        NaN     NaN     NaN   \n",
      "3  1197 cc   81 bhp @ 6000 rpm  114 Nm @ 4000 rpm        FWD  3765.0  1660.0   \n",
      "4  1197 cc   82 bhp @ 6000 rpm  115 Nm @ 4000 rpm        FWD  3985.0  1734.0   \n",
      "\n",
      "   Height  Seating Capacity  Fuel Tank Capacity  \n",
      "0  1785.0               7.0                78.0  \n",
      "1  1635.0               5.0                50.0  \n",
      "2     NaN               NaN                 NaN  \n",
      "3  1520.0               5.0                43.0  \n",
      "4  1505.0               5.0                45.0  \n"
     ]
    }
   ],
   "source": [
    "train_data = pd.read_csv('train.csv')\n",
    "test_data = pd.read_csv('test.csv')\n",
    "\n",
    "print(\"Số dòng trong train.csv\", len(train_data))\n",
    "print(f\"\\nSố cột: {len(train_data.columns)}\")\n",
    "print(\"Tên các cột:\", list(train_data.columns))\n",
    "print(\"\\n 5 dòng đầu trong train.csv:\\n\")\n",
    "print(train_data.head())"
   ]
  },
  {
   "cell_type": "code",
   "execution_count": 12,
   "id": "d3193fbf",
   "metadata": {},
   "outputs": [
    {
     "name": "stdout",
     "output_type": "stream",
     "text": [
      "Số dòng trong test.csv 330\n",
      "\n",
      "Số cột: 20\n",
      "Tên các cột: ['Make', 'Model', 'Price', 'Year', 'Kilometer', 'Fuel Type', 'Transmission', 'Location', 'Color', 'Owner', 'Seller Type', 'Engine', 'Max Power', 'Max Torque', 'Drivetrain', 'Length', 'Width', 'Height', 'Seating Capacity', 'Fuel Tank Capacity']\n",
      "\n",
      " 5 dòng đầu trong test.csv:\n",
      "\n",
      "            Make                           Model    Price  Year  Kilometer  \\\n",
      "0           Ford      Endeavour Trend 2.2 4x2 AT  2350000  2016      75000   \n",
      "1         Toyota  Urban Cruiser Premium Grade AT  1050000  2021       1910   \n",
      "2  Maruti Suzuki                    Alto 800 Lxi   210000  2014      42505   \n",
      "3          Honda                  City SV Diesel   550000  2014      85000   \n",
      "4        Hyundai                       Eon Era +   290000  2018      70000   \n",
      "\n",
      "  Fuel Type Transmission  Location   Color   Owner Seller Type   Engine  \\\n",
      "0    Diesel    Automatic    Mohali   White  Second  Individual  2198 cc   \n",
      "1    Petrol    Automatic  Varanasi   White   First  Individual  1462 cc   \n",
      "2    Petrol       Manual    Purnea     Red   First  Individual   796 cc   \n",
      "3    Diesel       Manual    Jaipur  Silver   First  Individual  1498 cc   \n",
      "4    Petrol       Manual     Kheda   White   First  Individual   814 cc   \n",
      "\n",
      "            Max Power         Max Torque Drivetrain  Length   Width  Height  \\\n",
      "0  158 bhp @ 3200 rpm  385 Nm @ 1600 rpm        RWD  4892.0  1860.0  1837.0   \n",
      "1  103 bhp @ 6000 rpm  138 Nm @ 4400 rpm        FWD  3995.0  1790.0  1640.0   \n",
      "2   47 bhp @ 6000 rpm   69 Nm @ 3500 rpm        FWD  3395.0  1490.0  1475.0   \n",
      "3   99 bhp @ 3600 rpm  200 Nm @ 1750 rpm        FWD  4440.0  1695.0  1495.0   \n",
      "4   55 bhp @ 5500 rpm   75 Nm @ 4000 rpm        FWD  3495.0  1550.0  1500.0   \n",
      "\n",
      "   Seating Capacity  Fuel Tank Capacity  \n",
      "0               7.0                80.0  \n",
      "1               5.0                48.0  \n",
      "2               5.0                35.0  \n",
      "3               5.0                40.0  \n",
      "4               5.0                32.0  \n"
     ]
    }
   ],
   "source": [
    "print(\"Số dòng trong test.csv\", len(test_data))\n",
    "print(f\"\\nSố cột: {len(test_data.columns)}\")\n",
    "print(\"Tên các cột:\", list(test_data.columns))\n",
    "print(\"\\n 5 dòng đầu trong test.csv:\\n\")\n",
    "print(test_data.head())"
   ]
  },
  {
   "cell_type": "markdown",
   "id": "6f1cdab1",
   "metadata": {},
   "source": [
    "### 2. Tiền xử lý dữ liệu"
   ]
  },
  {
   "cell_type": "code",
   "execution_count": 13,
   "id": "136ce16f",
   "metadata": {},
   "outputs": [],
   "source": [
    "# Hàm trích xuất số từ chuỗi\n",
    "def extract_number(s):\n",
    "    if pd.isna(s):\n",
    "        return np.nan\n",
    "    match = re.search(r'(\\d+)', str(s).replace(',', ''))\n",
    "    if match:\n",
    "        return int(match.group(1))\n",
    "    return np.nan\n",
    "\n",
    "# Hàm label encode\n",
    "def label_encode(series, mapping=None):\n",
    "    if mapping is None:\n",
    "        uniques = series.dropna().unique()\n",
    "        mapping = {k: v for v, k in enumerate(sorted(uniques))}\n",
    "    encoded = series.map(mapping)\n",
    "    return encoded, mapping"
   ]
  },
  {
   "cell_type": "code",
   "execution_count": 14,
   "id": "e264703f",
   "metadata": {},
   "outputs": [
    {
     "name": "stdout",
     "output_type": "stream",
     "text": [
      "Sau khi tiển xử lý dữ liệu cho train_data: \n",
      "Train.shape =  (1317, 20)\n",
      "Các cột trong train_data: ['Make', 'Model', 'Price', 'Year', 'Kilometer', 'Fuel Type', 'Transmission', 'Location', 'Color', 'Owner', 'Seller Type', 'Engine', 'Max Power', 'Max Torque', 'Drivetrain', 'Length', 'Width', 'Height', 'Seating Capacity', 'Fuel Tank Capacity']\n",
      "\n",
      " 5 dòng đầu trong train.csv:\n",
      "\n",
      "   Make  Model    Price      Year  Kilometer  Fuel Type  Transmission  \\\n",
      "0    25    538   975000 -0.989540   0.274506          1             0   \n",
      "1     7    227  1748999  1.644419  -0.817523          5             0   \n",
      "2     0     33  1150000 -1.282202  -0.229044          1             0   \n",
      "3     7    397   549000  0.473770  -0.024767          5             0   \n",
      "4     7    295   675000  0.181108  -0.094214          5             1   \n",
      "\n",
      "   Location  Color  Owner  Seller Type        Engine     Max Power  \\\n",
      "0         6     14      0            2  1.503194e+00  8.338177e-01   \n",
      "1        33     15      0            2 -3.225349e-01 -2.679054e-01   \n",
      "2        53      2      2            2 -3.462240e-16  4.410261e-16   \n",
      "3        24     15      2            2 -7.793477e-01 -7.644567e-01   \n",
      "4        24     15      0            2 -7.793477e-01 -7.489394e-01   \n",
      "\n",
      "     Max Torque  Drivetrain        Length         Width        Height  \\\n",
      "0  1.095560e+00         0.0  1.060288e+00  9.662296e-01  1.461120e+00   \n",
      "1 -7.419070e-01         1.0  3.274242e-02  1.537965e-01  3.294420e-01   \n",
      "2 -2.024184e-16        -1.0  2.053950e-15  1.679326e-15 -1.715425e-15   \n",
      "3 -9.555659e-01         1.0 -1.175471e+00 -8.063518e-01 -5.381777e-01   \n",
      "4 -9.484440e-01         1.0 -6.786354e-01 -2.598059e-01 -6.513455e-01   \n",
      "\n",
      "   Seating Capacity  Fuel Tank Capacity  \n",
      "0      2.108120e+00        1.680819e+00  \n",
      "1     -3.879255e-01       -1.589841e-01  \n",
      "2     -1.108467e-15        4.668781e-16  \n",
      "3     -3.879255e-01       -6.189349e-01  \n",
      "4     -3.879255e-01       -4.875204e-01  \n"
     ]
    }
   ],
   "source": [
    "# Bước 1: Trích số từ các cột chuỗi số\n",
    "for col in ['Engine', 'Max Power', 'Max Torque']:\n",
    "    train_data[col] = train_data[col].apply(extract_number)\n",
    "    test_data[col] = test_data[col].apply(extract_number)\n",
    "\n",
    "# Bước 2: Label encoding thủ công cho các cột phân loại\n",
    "categorical_cols = ['Make', 'Model', 'Fuel Type', 'Transmission', 'Location', \n",
    "                    'Color', 'Owner', 'Seller Type', 'Drivetrain']\n",
    "mappings = {}\n",
    "\n",
    "for col in categorical_cols:\n",
    "    train_data[col], mappings[col] = label_encode(train_data[col])\n",
    "    test_data[col] = test_data[col].map(mappings[col])\n",
    "\n",
    "# Bước 3: Xử lý giá trị thiếu\n",
    "# Với categorical NaN -> -1\n",
    "for col in categorical_cols:\n",
    "    train_data[col] = train_data[col].fillna(-1)\n",
    "    test_data[col] = test_data[col].fillna(-1)\n",
    "\n",
    "# Với numeric NaN -> trung bình cột train\n",
    "numeric_cols = ['Year', 'Kilometer', 'Engine', 'Max Power', 'Max Torque', \n",
    "                'Length', 'Width', 'Height', 'Seating Capacity', 'Fuel Tank Capacity']\n",
    "for col in numeric_cols:\n",
    "    mean = train_data[col].mean()\n",
    "    train_data[col] = train_data[col].fillna(mean)\n",
    "    test_data[col] = test_data[col].fillna(mean)\n",
    "\n",
    "# Bước 4: Chuẩn hóa dữ liệu numeric\n",
    "for col in numeric_cols:\n",
    "    mean = train_data[col].mean()\n",
    "    std = train_data[col].std()\n",
    "    train_data[col] = (train_data[col] - mean) / std\n",
    "    test_data[col] = (test_data[col] - mean) / std\n",
    "\n",
    "# Bước 5: Tách X và Y\n",
    "y_train = train_data['Price']\n",
    "X_train = train_data.drop(columns=['Price'])\n",
    "y_test = test_data['Price']\n",
    "X_test = test_data.drop(columns=['Price'])\n",
    "\n",
    "print(\"Sau khi tiển xử lý dữ liệu cho train_data: \")\n",
    "print(\"Train.shape = \", train_data.shape)\n",
    "print(\"Các cột trong train_data:\", list(train_data.columns))\n",
    "print(\"\\n 5 dòng đầu trong train.csv:\\n\")\n",
    "print(train_data.head())\n"
   ]
  },
  {
   "cell_type": "code",
   "execution_count": 15,
   "id": "e3a41599",
   "metadata": {},
   "outputs": [
    {
     "name": "stdout",
     "output_type": "stream",
     "text": [
      "Sau khi tiền xử lý dữ liệu cho test_data:\n",
      "Test.shape =  (330, 20)\n",
      "Các cột trong test_data: ['Make', 'Model', 'Price', 'Year', 'Kilometer', 'Fuel Type', 'Transmission', 'Location', 'Color', 'Owner', 'Seller Type', 'Engine', 'Max Power', 'Max Torque', 'Drivetrain', 'Length', 'Width', 'Height', 'Seating Capacity', 'Fuel Tank Capacity']\n",
      "\n",
      " 5 dòng đầu trong test.csv:\n",
      "\n",
      "   Make  Model    Price      Year  Kilometer  Fuel Type  Transmission  \\\n",
      "0   5.0   -1.0  2350000 -0.111554   0.321759        1.0             0   \n",
      "1  27.0   -1.0  1050000  1.351757  -0.829494        5.0             0   \n",
      "2  17.0   56.0   210000 -0.696878  -0.190075        5.0             1   \n",
      "3   6.0  172.0   550000 -0.696878   0.479271        1.0             1   \n",
      "4   7.0  320.0   290000  0.473770   0.243003        5.0             1   \n",
      "\n",
      "   Location  Color  Owner  Seller Type    Engine  Max Power  Max Torque  \\\n",
      "0      41.0     15    2.0            2  0.744884   0.430370    0.974486   \n",
      "1      68.0     15    0.0            2 -0.375830  -0.423078   -0.784639   \n",
      "2      54.0     13    0.0            2 -1.389954  -1.292042   -1.276054   \n",
      "3      26.0     14    0.0            2 -0.321012  -0.485147   -0.343077   \n",
      "4      32.0     15    0.0            2 -1.362545  -1.167905   -1.233323   \n",
      "\n",
      "   Drivetrain    Length     Width    Height  Seating Capacity  \\\n",
      "0         2.0  1.369681  0.670799  1.853435          2.108120   \n",
      "1         1.0 -0.656052  0.153796  0.367165         -0.387926   \n",
      "2         1.0 -2.011057 -2.061930 -0.877681         -0.387926   \n",
      "3         1.0  0.348910 -0.547850 -0.726791         -0.387926   \n",
      "4         1.0 -1.785223 -1.618785 -0.689068         -0.387926   \n",
      "\n",
      "   Fuel Tank Capacity  \n",
      "0            1.812233  \n",
      "1           -0.290399  \n",
      "2           -1.144593  \n",
      "3           -0.816057  \n",
      "4           -1.341715  \n"
     ]
    }
   ],
   "source": [
    "print(\"Sau khi tiền xử lý dữ liệu cho test_data:\")\n",
    "print(\"Test.shape = \", test_data.shape)\n",
    "print(\"Các cột trong test_data:\", list(test_data.columns))\n",
    "print(\"\\n 5 dòng đầu trong test.csv:\\n\")\n",
    "print(test_data.head())"
   ]
  },
  {
   "cell_type": "markdown",
   "id": "55077ae3",
   "metadata": {},
   "source": [
    "### 3.1 "
   ]
  },
  {
   "cell_type": "code",
   "execution_count": null,
   "id": "0b850dbc",
   "metadata": {},
   "outputs": [],
   "source": []
  },
  {
   "cell_type": "markdown",
   "id": "396b9613",
   "metadata": {},
   "source": [
    "### 3.2 "
   ]
  },
  {
   "cell_type": "code",
   "execution_count": null,
   "id": "889d36b2",
   "metadata": {},
   "outputs": [],
   "source": []
  },
  {
   "cell_type": "markdown",
   "id": "3befc9a3",
   "metadata": {},
   "source": [
    "### 3.3"
   ]
  },
  {
   "cell_type": "code",
   "execution_count": null,
   "id": "25c1fe05",
   "metadata": {},
   "outputs": [],
   "source": []
  }
 ],
 "metadata": {
  "kernelspec": {
   "display_name": "Python 3",
   "language": "python",
   "name": "python3"
  },
  "language_info": {
   "codemirror_mode": {
    "name": "ipython",
    "version": 3
   },
   "file_extension": ".py",
   "mimetype": "text/x-python",
   "name": "python",
   "nbconvert_exporter": "python",
   "pygments_lexer": "ipython3",
   "version": "3.12.7"
  }
 },
 "nbformat": 4,
 "nbformat_minor": 5
}
