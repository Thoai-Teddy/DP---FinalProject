{
 "cells": [
  {
   "cell_type": "markdown",
   "id": "c0fc206c",
   "metadata": {},
   "source": [
    "# ĐỒ ÁN CUỐI KỲ - PHÂN TÍCH DỮ LIỆU BẢO TOÀN TÍNH RIÊNG TƯ"
   ]
  },
  {
   "cell_type": "markdown",
   "id": "fcce2c43",
   "metadata": {},
   "source": [
    "## THÀNH VIÊN NHÓM:\n",
    "\n",
    "- 22120304 - Nguyễn Thị Kim Quý\n",
    "\n",
    "- 22120338 - Đỗ Hạnh Thảo\n",
    "\n",
    "- 22120352 - Phạm Nguyễn Quang Thoại"
   ]
  },
  {
   "cell_type": "code",
   "execution_count": 68,
   "id": "3dd2509f",
   "metadata": {},
   "outputs": [],
   "source": [
    "import pandas as pd\n",
    "import numpy as np\n",
    "import re"
   ]
  },
  {
   "cell_type": "markdown",
   "id": "128bdee9",
   "metadata": {},
   "source": [
    "### 1. Đọc file"
   ]
  },
  {
   "cell_type": "code",
   "execution_count": 69,
   "id": "f61751d3",
   "metadata": {},
   "outputs": [
    {
     "name": "stdout",
     "output_type": "stream",
     "text": [
      "Số dòng trong train.csv 1317\n",
      "\n",
      "Số cột: 20\n",
      "Tên các cột: ['Make', 'Model', 'Price', 'Year', 'Kilometer', 'Fuel Type', 'Transmission', 'Location', 'Color', 'Owner', 'Seller Type', 'Engine', 'Max Power', 'Max Torque', 'Drivetrain', 'Length', 'Width', 'Height', 'Seating Capacity', 'Fuel Tank Capacity']\n",
      "\n",
      " 5 dòng đầu trong train.csv:\n",
      "\n",
      "        Make                                    Model    Price  Year  \\\n",
      "0  Ssangyong                               Rexton RX7   975000  2013   \n",
      "1    Hyundai  Creta SX (O) 1.5 Petrol CVT [2020-2022]  1748999  2022   \n",
      "2       Audi                     A4 2.0 TDI (143 bhp)  1150000  2012   \n",
      "3    Hyundai        Grand i10 Magna AT 1.2 Kappa VTVT   549000  2018   \n",
      "4    Hyundai                       Elite i20 Asta 1.2   675000  2017   \n",
      "\n",
      "   Kilometer Fuel Type Transmission   Location   Color   Owner Seller Type  \\\n",
      "0      72000    Diesel    Automatic  Bangalore  Silver   First  Individual   \n",
      "1       2670    Petrol    Automatic    Kolkata   White   First  Individual   \n",
      "2      40031    Diesel    Automatic       Pune    Blue  Second  Individual   \n",
      "3      53000    Petrol    Automatic  Hyderabad   White  Second  Individual   \n",
      "4      48591    Petrol       Manual  Hyderabad   White   First  Individual   \n",
      "\n",
      "    Engine           Max Power         Max Torque Drivetrain  Length   Width  \\\n",
      "0  2696 cc  184 bhp @ 4000 rpm  402 Nm @ 3000 rpm        AWD  4755.0  1900.0   \n",
      "1  1497 cc  113 bhp @ 6300 rpm  144 Nm @ 4500 rpm        FWD  4300.0  1790.0   \n",
      "2      NaN                 NaN                NaN        NaN     NaN     NaN   \n",
      "3  1197 cc   81 bhp @ 6000 rpm  114 Nm @ 4000 rpm        FWD  3765.0  1660.0   \n",
      "4  1197 cc   82 bhp @ 6000 rpm  115 Nm @ 4000 rpm        FWD  3985.0  1734.0   \n",
      "\n",
      "   Height  Seating Capacity  Fuel Tank Capacity  \n",
      "0  1785.0               7.0                78.0  \n",
      "1  1635.0               5.0                50.0  \n",
      "2     NaN               NaN                 NaN  \n",
      "3  1520.0               5.0                43.0  \n",
      "4  1505.0               5.0                45.0  \n"
     ]
    }
   ],
   "source": [
    "train_data = pd.read_csv('train.csv')\n",
    "\n",
    "print(\"Số dòng trong train.csv\", len(train_data))\n",
    "print(f\"\\nSố cột: {len(train_data.columns)}\")\n",
    "print(\"Tên các cột:\", list(train_data.columns))\n",
    "print(\"\\n 5 dòng đầu trong train.csv:\\n\")\n",
    "print(train_data.head())"
   ]
  },
  {
   "cell_type": "markdown",
   "id": "6f1cdab1",
   "metadata": {},
   "source": [
    "### 2. Tiền xử lý dữ liệu"
   ]
  },
  {
   "cell_type": "code",
   "execution_count": 70,
   "id": "136ce16f",
   "metadata": {},
   "outputs": [],
   "source": [
    "# Hàm trích xuất số từ chuỗi\n",
    "def extract_number(s):\n",
    "    if pd.isna(s):\n",
    "        return np.nan\n",
    "    match = re.search(r'(\\d+)', str(s).replace(',', ''))\n",
    "    if match:\n",
    "        return int(match.group(1))\n",
    "    return np.nan\n",
    "\n",
    "# Hàm label encode\n",
    "# def label_encode(series, mapping=None):\n",
    "#     if mapping is None:\n",
    "#         uniques = series.dropna().unique()\n",
    "#         mapping = {k: v for v, k in enumerate(sorted(uniques))}\n",
    "#     encoded = series.map(mapping)\n",
    "#     return encoded, mapping\n",
    "def label_encode(series):\n",
    "    uniques = series.dropna().unique()\n",
    "    mapping = {k: v for v, k in enumerate(sorted(uniques))}\n",
    "    encoded = series.map(mapping)\n",
    "    return encoded, mapping"
   ]
  },
  {
   "cell_type": "code",
   "execution_count": 71,
   "id": "e264703f",
   "metadata": {},
   "outputs": [
    {
     "name": "stdout",
     "output_type": "stream",
     "text": [
      "Sau khi tiển xử lý dữ liệu cho train_data: \n",
      "Train.shape =  (1317, 19)\n",
      "Các cột trong X_train: ['Make', 'Model', 'Year', 'Kilometer', 'Fuel Type', 'Transmission', 'Location', 'Color', 'Owner', 'Seller Type', 'Engine', 'Max Power', 'Max Torque', 'Drivetrain', 'Length', 'Width', 'Height', 'Seating Capacity', 'Fuel Tank Capacity']\n",
      "\n",
      " 5 dòng đầu trong X_train đã xử lý:\n",
      "\n",
      "       Make     Model      Year  Kilometer  Fuel Type  Transmission  Location  \\\n",
      "0  1.397994  0.572208 -0.989540   0.274506  -0.902065     -1.089406 -1.301665   \n",
      "1 -0.778030 -0.749163  1.644419  -0.817523   1.088752     -1.089406  0.194324   \n",
      "2 -1.624262 -1.573426 -1.282202  -0.229044  -0.902065     -1.089406  1.302465   \n",
      "3 -0.778030 -0.026870  0.473770  -0.024767   1.088752     -1.089406 -0.304339   \n",
      "4 -0.778030 -0.460246  0.181108  -0.094214   1.088752      0.917234 -0.304339   \n",
      "\n",
      "      Color     Owner  Seller Type        Engine     Max Power    Max Torque  \\\n",
      "0  0.663426 -0.492233     0.186028  1.503194e+00  8.338177e-01  1.095560e+00   \n",
      "1  0.848421 -0.492233     0.186028 -3.225349e-01 -2.679054e-01 -7.419070e-01   \n",
      "2 -1.556515  1.636735     0.186028 -3.462240e-16  4.410261e-16 -2.024184e-16   \n",
      "3  0.848421  1.636735     0.186028 -7.793477e-01 -7.644567e-01 -9.555659e-01   \n",
      "4  0.848421 -0.492233     0.186028 -7.793477e-01 -7.489394e-01 -9.484440e-01   \n",
      "\n",
      "   Drivetrain        Length         Width        Height  Seating Capacity  \\\n",
      "0   -1.919794  1.060288e+00  9.662296e-01  1.461120e+00      2.108120e+00   \n",
      "1   -0.051599  3.274242e-02  1.537965e-01  3.294420e-01     -3.879255e-01   \n",
      "2    0.000000  2.053950e-15  1.679326e-15 -1.715425e-15     -1.108467e-15   \n",
      "3   -0.051599 -1.175471e+00 -8.063518e-01 -5.381777e-01     -3.879255e-01   \n",
      "4   -0.051599 -6.786354e-01 -2.598059e-01 -6.513455e-01     -3.879255e-01   \n",
      "\n",
      "   Fuel Tank Capacity  \n",
      "0        1.680819e+00  \n",
      "1       -1.589841e-01  \n",
      "2        4.668781e-16  \n",
      "3       -6.189349e-01  \n",
      "4       -4.875204e-01  \n"
     ]
    }
   ],
   "source": [
    "# Bước 1: Trích số từ các cột chuỗi số\n",
    "for col in ['Engine', 'Max Power', 'Max Torque']:\n",
    "    train_data[col] = train_data[col].apply(extract_number)\n",
    "    \n",
    "# Bước 2: Label encoding thủ công cho các cột phân loại\n",
    "categorical_cols = ['Make', 'Model', 'Fuel Type', 'Transmission', 'Location', \n",
    "                    'Color', 'Owner', 'Seller Type', 'Drivetrain']\n",
    "mappings = {}\n",
    "\n",
    "for col in categorical_cols:\n",
    "    train_data[col], mappings[col] = label_encode(train_data[col])\n",
    "\n",
    "# Bước 3: Xử lý giá trị thiếu\n",
    "# Với categorical NaN -> mean\n",
    "for col in categorical_cols:\n",
    "    mean = train_data[col].mean()\n",
    "    train_data[col] = train_data[col].fillna(mean)\n",
    "    \n",
    "for col in categorical_cols:\n",
    "    mean = train_data[col].mean()\n",
    "    std = train_data[col].std()\n",
    "    if std == 0:\n",
    "        std = 1e-8  # tránh chia 0\n",
    "    train_data[col] = (train_data[col] - mean) / std\n",
    "\n",
    "# Với numeric NaN -> trung bình cột train\n",
    "numeric_cols = ['Year', 'Kilometer', 'Engine', 'Max Power', 'Max Torque', \n",
    "                'Length', 'Width', 'Height', 'Seating Capacity', 'Fuel Tank Capacity']\n",
    "for col in numeric_cols:\n",
    "    mean = train_data[col].mean()\n",
    "    train_data[col] = train_data[col].fillna(mean)\n",
    "\n",
    "# Bước 4: Chuẩn hóa dữ liệu numeric\n",
    "for col in numeric_cols:\n",
    "    mean = train_data[col].mean()\n",
    "    std = train_data[col].std()\n",
    "    if std == 0:\n",
    "        std = 1e-8  # tránh chia 0\n",
    "    train_data[col] = (train_data[col] - mean) / std\n",
    "\n",
    "# Bước 5: Tách X và Y\n",
    "y_train = train_data['Price']\n",
    "X_train = train_data.drop(columns=['Price'])\n",
    "\n",
    "print(\"Sau khi tiển xử lý dữ liệu cho train_data: \")\n",
    "\n",
    "print(\"Train.shape = \", X_train.shape)\n",
    "print(\"Các cột trong X_train:\", list(X_train.columns))\n",
    "print(\"\\n 5 dòng đầu trong X_train đã xử lý:\\n\")\n",
    "print(X_train.head())"
   ]
  },
  {
   "cell_type": "markdown",
   "id": "396b9613",
   "metadata": {},
   "source": [
    "### 3.1 - 3.2: Xây dựng mô hình và huấn luyện"
   ]
  },
  {
   "cell_type": "markdown",
   "id": "494ddf5d",
   "metadata": {},
   "source": [
    "Mô hình: Linear Regression\n",
    "\n",
    "Thuật toán tối ưu: Stochastic Gradient Descent"
   ]
  },
  {
   "cell_type": "markdown",
   "id": "3da58a65",
   "metadata": {},
   "source": [
    "**Các cột dữ liệu được chọn**:\n",
    "\n",
    "- Year: Năm sản xuất ảnh hưởng đến độ mới, giá trị còn lại.\n",
    "\n",
    "- Kilometer: Số km đã đi là chỉ số hao mòn – ảnh hưởng trực tiếp đến giá.\n",
    "\n",
    "- Fuel Type: Xe chạy xăng, dầu hay điện có mức giá khác nhau.\n",
    "\n",
    "- Transmission: Xe số sàn thường rẻ hơn xe số tự động.\n",
    "\n",
    "- Engine: Dung tích/mã lực động cơ ảnh hưởng đến giá xe.\n",
    "\n",
    "- Max Power: Công suất phản ánh hiệu năng, thường đi kèm giá.\n",
    "\n",
    "- Seating Capacity: Xe 4 chỗ, 7 chỗ, 9 chỗ có giá khác nhau.\n",
    "\n",
    "- Fuel Tank Capacity: Phụ nhưng vẫn phản ánh phần nào kích thước/loại xe."
   ]
  },
  {
   "cell_type": "markdown",
   "id": "24e86d01",
   "metadata": {},
   "source": [
    "**Các công thức hồi quy sẽ sử dụng**:\n",
    "\n",
    "- **y = a1x1 + a2x2 + a3x3 + a4x4**: Đây là mô hình hồi quy tuyến tính đơn giản, chuẩn, rất ổn cho baseline.\n",
    "\n",
    "- **y = a1x1^2 + a2x2 + a3x3^2 + a4x4**: Đây là kỹ thuật polynomial features, giúp mô hình có thể nắm bắt được quan hệ phi tuyến.\n",
    "\n",
    "- **y = a1(x1 + x2) + a3x3^ + a4x4**: Có các tương tác tiềm năng sau:\n",
    "\n",
    "    - Year + Kilometer: Xe mới + số kilomet đã chạy ít -> giá cao\n",
    "\n",
    "    - Make và Model: kết hợp thương hiệu + dòng xe đặc biệt -> đắt tiền.\n",
    "\n",
    "    - Fuel Type và Engine / Max Power / Max Torque: Xe điện có thể có cấu hình động cơ và công suất khác biệt với xe xăng/dầu, tương tác giữa loại nhiên liệu và hiệu năng động cơ có thể quan trọng.\n",
    "\n",
    "    - Seating Capacity và Fuel Tank Capacity: Xe nhiều chỗ thường có bình nhiên liệu lớn hơn, tương tác giúp phân biệt phân khúc xe.\n",
    "    \n",
    "    - Transmission và DriveTrain: Ví dụ xe số tự động + hệ dẫn động 4 bánh có thể giá cao hơn số sàn + dẫn động cầu trước.\n",
    "\n",
    "- **y = a1x1x2 + a3x3^2**:\n",
    "Cũng có các tương tác như trên\n",
    "\n",
    "- **Regularized Linear Regression: Ridge Regression (L2 Regularization)**: λ∑(ai^2): Tránh overfitting"
   ]
  },
  {
   "cell_type": "code",
   "execution_count": 72,
   "id": "ae2831ac",
   "metadata": {},
   "outputs": [
    {
     "name": "stdout",
     "output_type": "stream",
     "text": [
      "Columns in X_train: ['Year', 'Kilometer', 'Fuel Type', 'Transmission', 'Engine', 'Max Power', 'Seating Capacity', 'Fuel Tank Capacity']\n",
      "5 dòng dữ liệu đầu:\n",
      "        Year  Kilometer  Fuel Type  Transmission        Engine     Max Power  \\\n",
      "0 -0.989540   0.274506  -0.902065     -1.089406  1.503194e+00  8.338177e-01   \n",
      "1  1.644419  -0.817523   1.088752     -1.089406 -3.225349e-01 -2.679054e-01   \n",
      "2 -1.282202  -0.229044  -0.902065     -1.089406 -3.462240e-16  4.410261e-16   \n",
      "3  0.473770  -0.024767   1.088752     -1.089406 -7.793477e-01 -7.644567e-01   \n",
      "4  0.181108  -0.094214   1.088752      0.917234 -7.793477e-01 -7.489394e-01   \n",
      "\n",
      "   Seating Capacity  Fuel Tank Capacity  \n",
      "0      2.108120e+00        1.680819e+00  \n",
      "1     -3.879255e-01       -1.589841e-01  \n",
      "2     -1.108467e-15        4.668781e-16  \n",
      "3     -3.879255e-01       -6.189349e-01  \n",
      "4     -3.879255e-01       -4.875204e-01  \n"
     ]
    }
   ],
   "source": [
    "cols = ['Year', 'Kilometer', 'Fuel Type', 'Transmission', 'Engine', 'Max Power', 'Seating Capacity', 'Fuel Tank Capacity']\n",
    "X_train_official = X_train[cols]\n",
    "\n",
    "print(\"Columns in X_train:\", list(X_train_official.columns))\n",
    "print(\"5 dòng dữ liệu đầu:\\n\", X_train_official.head())"
   ]
  },
  {
   "cell_type": "code",
   "execution_count": 73,
   "id": "db79cfbd",
   "metadata": {},
   "outputs": [],
   "source": [
    "# Tính mean và std của y_train\n",
    "y_mean = y_train.mean()\n",
    "y_std = y_train.std()\n",
    "\n",
    "# Chuẩn hóa y_train\n",
    "y_train_scaled = (y_train - y_mean) / y_std"
   ]
  },
  {
   "cell_type": "code",
   "execution_count": 74,
   "id": "889d36b2",
   "metadata": {},
   "outputs": [],
   "source": [
    "def mean_squared_error(y_true, y_pred):\n",
    "    return np.mean((y_true - y_pred) ** 2)\n",
    "\n",
    "def sgd_linear_regression(X, y, transform_fn, lr=1e-6, max_epoch=500, lambda_l2=0.0):\n",
    "    n_samples = X.shape[0]\n",
    "    X_transformed = transform_fn(X)\n",
    "    n_features = X_transformed.shape[1]\n",
    "    weights = np.zeros(n_features)\n",
    "\n",
    "    for epoch in range(max_epoch):\n",
    "        indices = np.arange(n_samples)\n",
    "        np.random.shuffle(indices)\n",
    "        for i in indices:\n",
    "            xi = X_transformed[i]\n",
    "            yi = y[i]\n",
    "            y_pred = np.dot(weights, xi)\n",
    "            error = y_pred - yi\n",
    "            gradient = error * xi + 2 * lambda_l2 * weights\n",
    "\n",
    "            if np.any(np.isnan(gradient)) or np.any(np.isinf(gradient)):\n",
    "                print(f\"Warning: gradient NaN/Inf at epoch {epoch}, sample {i}\")\n",
    "                continue\n",
    "\n",
    "            weights_new = weights - lr * gradient\n",
    "            if np.any(np.isnan(weights_new)) or np.any(np.isinf(weights_new)):\n",
    "                print(f\"Warning: weights overflow at epoch {epoch}, sample {i}\")\n",
    "                continue\n",
    "\n",
    "            weights = weights_new\n",
    "\n",
    "        if epoch % 10 == 0:\n",
    "            y_pred_scaled = np.dot(X_transformed, weights)\n",
    "            \n",
    "            # Tính MSE trên dữ liệu đã chuẩn hóa\n",
    "            mse_scaled = mean_squared_error(y, y_pred_scaled)\n",
    "            \n",
    "            # Tính MSE trên đơn vị gốc\n",
    "            y_pred_original = y_pred_scaled * y_std + y_mean\n",
    "            y_original = y * y_std + y_mean\n",
    "            mse_original = mean_squared_error(y_original, y_pred_original)\n",
    "            \n",
    "            # print(f\"Epoch {epoch}:\")\n",
    "            # print(f\"   ➤ MSE (chuẩn hóa): {mse_scaled:.4f}\")\n",
    "            # print(f\"   ➤ MSE (đơn vị gốc): {mse_original:.2f}\")\n",
    "\n",
    "    # Sau khi huấn luyện xong\n",
    "    y_pred_scaled = np.dot(X_transformed, weights)\n",
    "    mse_scaled = mean_squared_error(y, y_pred_scaled)\n",
    "    y_pred_original = y_pred_scaled * y_std + y_mean\n",
    "    y_original = y * y_std + y_mean\n",
    "    mse_original = mean_squared_error(y_original, y_pred_original)\n",
    "\n",
    "    return weights, mse_original, mse_scaled\n"
   ]
  },
  {
   "cell_type": "code",
   "execution_count": 75,
   "id": "9a202d40",
   "metadata": {},
   "outputs": [],
   "source": [
    "def formula_1(X):  \n",
    "    return X[:, [0, 1, 2, 3, 4, 5, 6, 7]]\n",
    "\n",
    "def formula_2(X):  \n",
    "    return np.column_stack((X[:,0]**2, X[:,1], X[:,2]**2, X[:,3], X[:,4]**2, X[:,5], X[:,6]**2, X[:,7]))\n",
    "\n",
    "def formula_3(X):  \n",
    "    x1_plus_x2 = X[:,0] + X[:,1]\n",
    "    x3_plus_x5 = X[:,2] + X[:,4]\n",
    "    x7_plus_x8 = X[:,6] + X[:,7]\n",
    "    return np.column_stack((x1_plus_x2, x3_plus_x5, X[:,3]**2, X[:,5], x7_plus_x8))\n",
    "\n",
    "def formula_4(X):  \n",
    "    x1x2 = X[:,0] * X[:,1]\n",
    "    x3x5 = X[:,2] * X[:,4]\n",
    "    x7x8 = X[:,6] * X[:,7]\n",
    "    return np.column_stack((x1x2, x3x5, X[:,3]**2, X[:,5]**2, x7x8))\n",
    "\n",
    "def formula_5_ridge(X):  \n",
    "    return X\n",
    "\n",
    "def run_all_formulas(X_train, y_train):\n",
    "    formulas = [formula_1, formula_2, formula_3, formula_4, formula_5_ridge]\n",
    "    names = [\n",
    "        \"Công thức 1: y = a1x1 + a2x2 + a3x3 + a4x4 + a5x5 + a6x6 + a7x7 + a8x8\",\n",
    "        \"Công thức 2: y = a1x1^2 + a2x2 + a3x3^2 + a4x4 + a5x5^2 + a6x6 + a7x7^2 + a8x8\",\n",
    "        \"Công thức 3: y = a1(x1 + x2) + a3(x3 + x5) + a4x4^2 + a7(x7 + x8)\",\n",
    "        \"Công thức 4: y = a1x1x2 + a3x3x5 + a3x3^2 + a6x6^2 + a7x7x8\",\n",
    "        \"Công thức 5: Ridge Regression (8 cột)\"\n",
    "    ]\n",
    "\n",
    "    for i, formula in enumerate(formulas):\n",
    "        lambda_l2 = 0.1 if i == 4 else 0.0\n",
    "        weights, mse, mse_scaled = sgd_linear_regression(X_train, y_train, formula, lambda_l2=lambda_l2)\n",
    "        print(f\"Công thức: {names[i]}\")\n",
    "        print(f\"MSE: {mse:.2f}\")\n",
    "        print(f\"MSE (chuẩn hoá): {mse_scaled:.2f}\\n\")\n",
    "        print(f\"Weights: {weights}\\n\")"
   ]
  },
  {
   "cell_type": "code",
   "execution_count": 76,
   "id": "0b28024f",
   "metadata": {},
   "outputs": [],
   "source": [
    "# run_all_formulas(X_train_official.values, y_train_scaled.values)"
   ]
  },
  {
   "cell_type": "code",
   "execution_count": 77,
   "id": "8948f516",
   "metadata": {},
   "outputs": [
    {
     "name": "stdout",
     "output_type": "stream",
     "text": [
      "Công thức 1:\n",
      "MSE: 2460082324490.72\n",
      "MSE (chuẩn hoá): 0.42\n",
      "\n",
      "Weights: [ 0.13158888 -0.05774952 -0.01459199 -0.12273174  0.16850273  0.23948151\n",
      " -0.04050935  0.15785394]\n",
      "\n"
     ]
    }
   ],
   "source": [
    "weights1, mse1, mse_scaled1 = sgd_linear_regression(X_train_official.values, y_train_scaled.values, formula_1, lambda_l2=0.0)\n",
    "print(f\"Công thức 1:\")\n",
    "print(f\"MSE: {mse1:.2f}\")\n",
    "print(f\"MSE (chuẩn hoá): {mse_scaled1:.2f}\\n\")\n",
    "print(f\"Weights: {weights1}\\n\")"
   ]
  },
  {
   "cell_type": "code",
   "execution_count": 78,
   "id": "5bf971b8",
   "metadata": {},
   "outputs": [
    {
     "name": "stdout",
     "output_type": "stream",
     "text": [
      "Công thức 2:\n",
      "MSE: 2673962912123.03\n",
      "MSE (chuẩn hoá): 0.46\n",
      "Weights: [-0.01109229 -0.06567941 -0.04956247 -0.14255123  0.08403831  0.21670307\n",
      " -0.00272804  0.17504104]\n",
      "\n"
     ]
    }
   ],
   "source": [
    "weights2, mse2, mse_scaled2 = sgd_linear_regression(X_train_official.values, y_train_scaled.values, formula_2, lambda_l2=0.0)\n",
    "print(f\"Công thức 2:\")\n",
    "print(f\"MSE: {mse2:.2f}\")\n",
    "print(f\"MSE (chuẩn hoá): {mse_scaled2:.2f}\")\n",
    "print(f\"Weights: {weights2}\\n\")"
   ]
  },
  {
   "cell_type": "code",
   "execution_count": 79,
   "id": "564daa09",
   "metadata": {},
   "outputs": [
    {
     "name": "stdout",
     "output_type": "stream",
     "text": [
      "Công thức 3:\n",
      "MSE: 3187010445401.28\n",
      "MSE (chuẩn hoá): 0.55\n",
      "Weights: [0.06602061 0.13263601 0.02408248 0.29204267 0.11443922]\n",
      "\n"
     ]
    }
   ],
   "source": [
    "weights3, mse3, mse_scaled3 = sgd_linear_regression(X_train_official.values, y_train_scaled.values, formula_3, lambda_l2=0.0)\n",
    "print(f\"Công thức 3:\")\n",
    "print(f\"MSE: {mse3:.2f}\")\n",
    "print(f\"MSE (chuẩn hoá): {mse_scaled3:.2f}\")\n",
    "print(f\"Weights: {weights3}\\n\")"
   ]
  },
  {
   "cell_type": "code",
   "execution_count": 80,
   "id": "951c91d9",
   "metadata": {},
   "outputs": [
    {
     "name": "stdout",
     "output_type": "stream",
     "text": [
      "Công thức 4:\n",
      "MSE: 4035486424486.65\n",
      "MSE (chuẩn hoá): 0.70\n",
      "Weights: [-0.01317719 -0.00314144 -0.03451179  0.17026094 -0.04100288]\n",
      "\n"
     ]
    }
   ],
   "source": [
    "weights4, mse4, mse_scaled4 = sgd_linear_regression(X_train_official.values, y_train_scaled.values, formula_4, lambda_l2=0.0)\n",
    "print(f\"Công thức 4:\")\n",
    "print(f\"MSE: {mse4:.2f}\")\n",
    "print(f\"MSE (chuẩn hoá): {mse_scaled4:.2f}\")\n",
    "print(f\"Weights: {weights4}\\n\")"
   ]
  },
  {
   "cell_type": "code",
   "execution_count": 81,
   "id": "62066b6f",
   "metadata": {},
   "outputs": [
    {
     "name": "stdout",
     "output_type": "stream",
     "text": [
      "Công thức 5:\n",
      "MSE: 2513149371353.32\n",
      "MSE (chuẩn hoá): 0.43\n",
      "Weights: [ 0.12452432 -0.05476028 -0.01485766 -0.11786457  0.16132572  0.22815195\n",
      " -0.0374706   0.1512384 ]\n",
      "\n"
     ]
    }
   ],
   "source": [
    "weights5, mse5, mse_scaled5 = sgd_linear_regression(X_train_official.values, y_train_scaled.values, formula_5_ridge, lambda_l2=0.1)\n",
    "print(f\"Công thức 5:\")\n",
    "print(f\"MSE: {mse5:.2f}\")\n",
    "print(f\"MSE (chuẩn hoá): {mse_scaled5:.2f}\")\n",
    "print(f\"Weights: {weights5}\\n\")"
   ]
  },
  {
   "cell_type": "code",
   "execution_count": 82,
   "id": "d0edf9e7",
   "metadata": {},
   "outputs": [
    {
     "name": "stdout",
     "output_type": "stream",
     "text": [
      "Công thức tốt nhất là công thức 1 với MSE = 2460082324490.72\n",
      " Và MSE (chuẩn hoá): 0.4243956196722973\n"
     ]
    }
   ],
   "source": [
    "mse_list = [mse1, mse2, mse3, mse4, mse5]\n",
    "mse_scaled_list = [mse_scaled1, mse_scaled2, mse_scaled3, mse_scaled4, mse_scaled5]\n",
    "best_formula_index = mse_list.index(min(mse_list)) \n",
    "\n",
    "print(f\"Công thức tốt nhất là công thức {best_formula_index + 1} với MSE = {min(mse_list):.2f}\\n Và MSE (chuẩn hoá): {mse_scaled_list[best_formula_index]}\")\n"
   ]
  },
  {
   "cell_type": "markdown",
   "id": "642e3ba8",
   "metadata": {},
   "source": [
    "### Đọc file test.csv"
   ]
  },
  {
   "cell_type": "code",
   "execution_count": 83,
   "id": "33d8f5d8",
   "metadata": {},
   "outputs": [
    {
     "name": "stdout",
     "output_type": "stream",
     "text": [
      "Số dòng trong test.csv 330\n",
      "\n",
      "Số cột: 20\n",
      "Tên các cột: ['Make', 'Model', 'Price', 'Year', 'Kilometer', 'Fuel Type', 'Transmission', 'Location', 'Color', 'Owner', 'Seller Type', 'Engine', 'Max Power', 'Max Torque', 'Drivetrain', 'Length', 'Width', 'Height', 'Seating Capacity', 'Fuel Tank Capacity']\n",
      "\n",
      " 5 dòng đầu trong test.csv:\n",
      "\n",
      "            Make                           Model    Price  Year  Kilometer  \\\n",
      "0           Ford      Endeavour Trend 2.2 4x2 AT  2350000  2016      75000   \n",
      "1         Toyota  Urban Cruiser Premium Grade AT  1050000  2021       1910   \n",
      "2  Maruti Suzuki                    Alto 800 Lxi   210000  2014      42505   \n",
      "3          Honda                  City SV Diesel   550000  2014      85000   \n",
      "4        Hyundai                       Eon Era +   290000  2018      70000   \n",
      "\n",
      "  Fuel Type Transmission  Location   Color   Owner Seller Type   Engine  \\\n",
      "0    Diesel    Automatic    Mohali   White  Second  Individual  2198 cc   \n",
      "1    Petrol    Automatic  Varanasi   White   First  Individual  1462 cc   \n",
      "2    Petrol       Manual    Purnea     Red   First  Individual   796 cc   \n",
      "3    Diesel       Manual    Jaipur  Silver   First  Individual  1498 cc   \n",
      "4    Petrol       Manual     Kheda   White   First  Individual   814 cc   \n",
      "\n",
      "            Max Power         Max Torque Drivetrain  Length   Width  Height  \\\n",
      "0  158 bhp @ 3200 rpm  385 Nm @ 1600 rpm        RWD  4892.0  1860.0  1837.0   \n",
      "1  103 bhp @ 6000 rpm  138 Nm @ 4400 rpm        FWD  3995.0  1790.0  1640.0   \n",
      "2   47 bhp @ 6000 rpm   69 Nm @ 3500 rpm        FWD  3395.0  1490.0  1475.0   \n",
      "3   99 bhp @ 3600 rpm  200 Nm @ 1750 rpm        FWD  4440.0  1695.0  1495.0   \n",
      "4   55 bhp @ 5500 rpm   75 Nm @ 4000 rpm        FWD  3495.0  1550.0  1500.0   \n",
      "\n",
      "   Seating Capacity  Fuel Tank Capacity  \n",
      "0               7.0                80.0  \n",
      "1               5.0                48.0  \n",
      "2               5.0                35.0  \n",
      "3               5.0                40.0  \n",
      "4               5.0                32.0  \n"
     ]
    }
   ],
   "source": [
    "test_data = pd.read_csv('test.csv')\n",
    "print(\"Số dòng trong test.csv\", len(test_data))\n",
    "print(f\"\\nSố cột: {len(test_data.columns)}\")\n",
    "print(\"Tên các cột:\", list(test_data.columns))\n",
    "print(\"\\n 5 dòng đầu trong test.csv:\\n\")\n",
    "print(test_data.head())"
   ]
  },
  {
   "cell_type": "code",
   "execution_count": 85,
   "id": "f63db3d8",
   "metadata": {},
   "outputs": [
    {
     "name": "stdout",
     "output_type": "stream",
     "text": [
      "Sau khi tiền xử lý dữ liệu cho test_data:\n",
      "Test.shape =  (330, 19)\n",
      "Các cột trong X_test: ['Make', 'Model', 'Year', 'Kilometer', 'Fuel Type', 'Transmission', 'Location', 'Color', 'Owner', 'Seller Type', 'Engine', 'Max Power', 'Max Torque', 'Drivetrain', 'Length', 'Width', 'Height', 'Seating Capacity', 'Fuel Tank Capacity']\n",
      "\n",
      " 5 dòng đầu trong X_test đã xử lý:\n",
      "\n",
      "       Make     Model      Year  Kilometer  Fuel Type  Transmission  Location  \\\n",
      "0 -1.025466 -0.389501 -0.180217   0.705868  -0.579023     -1.134792  0.615753   \n",
      "1  1.543063  1.126155  1.393109  -1.612418   0.857650     -1.134792  1.840893   \n",
      "2  0.579865 -1.429909 -0.809548  -0.324816   0.857650      0.878549  1.140813   \n",
      "3 -0.864933 -0.967506 -0.809548   1.023051  -0.579023      0.878549 -0.084328   \n",
      "4 -0.704400 -0.363812  0.449113   0.547277   0.857650      0.878549  0.265712   \n",
      "\n",
      "      Color     Owner  Seller Type    Engine  Max Power  Max Torque  \\\n",
      "0  0.836310  1.742092     0.117401  0.872530   0.466901    1.089809   \n",
      "1  0.836310 -0.516809     0.117401 -0.351238  -0.401463   -0.762526   \n",
      "2  0.422853 -0.516809     0.117401 -1.458615  -1.285616   -1.279980   \n",
      "3  0.629582 -0.516809     0.117401 -0.291380  -0.464617   -0.297568   \n",
      "4  0.836310 -0.516809     0.117401 -1.428686  -1.159309   -1.234984   \n",
      "\n",
      "   Drivetrain    Length     Width    Height  Seating Capacity  \\\n",
      "0    1.839225  1.442917  0.743750  1.707724          2.085435   \n",
      "1   -0.012140 -0.623035  0.216556  0.307421         -0.380217   \n",
      "2   -0.012140 -2.004944 -2.042850 -0.865421         -0.380217   \n",
      "3   -0.012140  0.401880 -0.498923 -0.723258         -0.380217   \n",
      "4   -0.012140 -1.774626 -1.590969 -0.687718         -0.380217   \n",
      "\n",
      "   Fuel Tank Capacity  \n",
      "0            2.072200  \n",
      "1           -0.221742  \n",
      "2           -1.153655  \n",
      "3           -0.795227  \n",
      "4           -1.368712  \n"
     ]
    }
   ],
   "source": [
    "# Bước 1: Trích số từ các cột chuỗi số\n",
    "for col in ['Engine', 'Max Power', 'Max Torque']:\n",
    "    test_data[col] = test_data[col].apply(extract_number)\n",
    "\n",
    "# Bước 2: Label encoding thủ công cho các cột phân loại\n",
    "categorical_cols = ['Make', 'Model', 'Fuel Type', 'Transmission', 'Location', \n",
    "                    'Color', 'Owner', 'Seller Type', 'Drivetrain']\n",
    "mappings = {}\n",
    "\n",
    "for col in categorical_cols:\n",
    "    test_data[col], mappings[col] = label_encode(test_data[col])\n",
    "\n",
    "# Bước 3: Xử lý giá trị thiếu\n",
    "# Với categorical NaN -> mean\n",
    "for col in categorical_cols:\n",
    "    mean = test_data[col].mean()\n",
    "    test_data[col] = test_data[col].fillna(mean)\n",
    "    \n",
    "for col in categorical_cols:\n",
    "    mean = test_data[col].mean()\n",
    "    std = test_data[col].std()\n",
    "    if std == 0:\n",
    "        std = 1e-8  # tránh chia 0\n",
    "    test_data[col] = (test_data[col] - mean) / std\n",
    "\n",
    "# Với numeric NaN -> trung bình cột train\n",
    "numeric_cols = ['Year', 'Kilometer', 'Engine', 'Max Power', 'Max Torque', \n",
    "                'Length', 'Width', 'Height', 'Seating Capacity', 'Fuel Tank Capacity']\n",
    "for col in numeric_cols:\n",
    "    mean = test_data[col].mean()\n",
    "    test_data[col] = test_data[col].fillna(mean)\n",
    "\n",
    "# Bước 4: Chuẩn hóa dữ liệu numeric\n",
    "for col in numeric_cols:\n",
    "    mean = test_data[col].mean()\n",
    "    std = test_data[col].std()\n",
    "    if std == 0:\n",
    "        std = 1e-8  # tránh chia 0\n",
    "    test_data[col] = (test_data[col] - mean) / std\n",
    "\n",
    "# Bước 5: Tách X và Y\n",
    "y_test = test_data['Price']\n",
    "X_test = test_data.drop(columns=['Price'])\n",
    "\n",
    "print(\"Sau khi tiền xử lý dữ liệu cho test_data:\")\n",
    "print(\"Test.shape = \", X_test.shape)\n",
    "print(\"Các cột trong X_test:\", list(X_test.columns))\n",
    "print(\"\\n 5 dòng đầu trong X_test đã xử lý:\\n\")\n",
    "print(X_test.head())"
   ]
  },
  {
   "cell_type": "code",
   "execution_count": 86,
   "id": "3aa0d3b0",
   "metadata": {},
   "outputs": [
    {
     "name": "stdout",
     "output_type": "stream",
     "text": [
      "Columns in X_test: ['Year', 'Kilometer', 'Fuel Type', 'Transmission', 'Engine', 'Max Power', 'Seating Capacity', 'Fuel Tank Capacity']\n",
      "5 dòng dữ liệu đầu:\n",
      "        Year  Kilometer  Fuel Type  Transmission    Engine  Max Power  \\\n",
      "0 -0.180217   0.705868  -0.579023     -1.134792  0.872530   0.466901   \n",
      "1  1.393109  -1.612418   0.857650     -1.134792 -0.351238  -0.401463   \n",
      "2 -0.809548  -0.324816   0.857650      0.878549 -1.458615  -1.285616   \n",
      "3 -0.809548   1.023051  -0.579023      0.878549 -0.291380  -0.464617   \n",
      "4  0.449113   0.547277   0.857650      0.878549 -1.428686  -1.159309   \n",
      "\n",
      "   Seating Capacity  Fuel Tank Capacity  \n",
      "0          2.085435            2.072200  \n",
      "1         -0.380217           -0.221742  \n",
      "2         -0.380217           -1.153655  \n",
      "3         -0.380217           -0.795227  \n",
      "4         -0.380217           -1.368712  \n"
     ]
    }
   ],
   "source": [
    "X_test_official = X_test[cols]\n",
    "print(\"Columns in X_test:\", list(X_test_official.columns))\n",
    "print(\"5 dòng dữ liệu đầu:\\n\", X_test_official.head())"
   ]
  },
  {
   "cell_type": "code",
   "execution_count": 87,
   "id": "a46e68e7",
   "metadata": {},
   "outputs": [],
   "source": [
    "# Tính mean và std của y_train\n",
    "y_test_mean = y_train.mean()\n",
    "y_test_std = y_train.std()\n",
    "\n",
    "# Chuẩn hóa y_train\n",
    "y_test_scaled = (y_test - y_test_mean) / y_test_std"
   ]
  },
  {
   "cell_type": "code",
   "execution_count": 90,
   "id": "1c88df30",
   "metadata": {},
   "outputs": [
    {
     "name": "stdout",
     "output_type": "stream",
     "text": [
      "Công thức 1:\n",
      "-> MSE (chuẩn hóa): 0.3128\n",
      "-> MSE (đơn vị gốc): 1813383238927.51\n",
      "----------------------------------------\n",
      "Công thức 2:\n",
      "-> MSE (chuẩn hóa): 0.3249\n",
      "-> MSE (đơn vị gốc): 1883327959466.07\n",
      "----------------------------------------\n",
      "Công thức 3:\n",
      "-> MSE (chuẩn hóa): 0.4289\n",
      "-> MSE (đơn vị gốc): 2486048026104.24\n",
      "----------------------------------------\n",
      "Công thức 4:\n",
      "-> MSE (chuẩn hóa): 0.4630\n",
      "-> MSE (đơn vị gốc): 2683678741106.38\n",
      "----------------------------------------\n",
      "Công thức 5:\n",
      "-> MSE (chuẩn hóa): 0.3183\n",
      "-> MSE (đơn vị gốc): 1844902309532.49\n",
      "----------------------------------------\n",
      "\n",
      "Công thức tốt nhất trên tập test là: Công thức 1\n"
     ]
    }
   ],
   "source": [
    "mse_test_list = []\n",
    "mse_test_scaled_list = []\n",
    "\n",
    "for i, (weights, formula) in enumerate(zip(\n",
    "    [weights1, weights2, weights3, weights4, weights5],\n",
    "    [formula_1, formula_2, formula_3, formula_4, formula_5_ridge]\n",
    "), 1):\n",
    "    # Biến đổi X_test theo công thức\n",
    "    X_test_transformed = formula(X_test_official.values)\n",
    "    \n",
    "    # Dự đoán chuẩn hóa\n",
    "    y_pred_scaled = np.dot(X_test_transformed, weights)\n",
    "    \n",
    "    # Dự đoán đơn vị gốc\n",
    "    y_pred_original = y_pred_scaled * y_std + y_mean\n",
    "\n",
    "    # MSE chuẩn hóa (so với y_test_scaled)\n",
    "    mse_scaled = mean_squared_error(y_test_scaled, y_pred_scaled)\n",
    "    mse_test_scaled_list.append(mse_scaled)\n",
    "\n",
    "    # MSE đơn vị gốc (so với y_test thật)\n",
    "    mse_original = mean_squared_error(y_test, y_pred_original)\n",
    "    mse_test_list.append(mse_original)\n",
    "\n",
    "    # In kết quả\n",
    "    print(f\"Công thức {i}:\")\n",
    "    print(f\"-> MSE (chuẩn hóa): {mse_scaled:.4f}\")\n",
    "    print(f\"-> MSE (đơn vị gốc): {mse_original:.2f}\")\n",
    "    print(\"-\" * 40)\n",
    "\n",
    "# Tìm công thức tốt nhất (dựa trên MSE gốc)\n",
    "best_index = mse_test_list.index(min(mse_test_list)) + 1\n",
    "print(f\"\\nCông thức tốt nhất trên tập test là: Công thức {best_index}\")"
   ]
  },
  {
   "cell_type": "markdown",
   "id": "3befc9a3",
   "metadata": {},
   "source": [
    "### 3.3 Thêm nhiễu"
   ]
  },
  {
   "cell_type": "code",
   "execution_count": null,
   "id": "25c1fe05",
   "metadata": {},
   "outputs": [],
   "source": []
  }
 ],
 "metadata": {
  "kernelspec": {
   "display_name": "Python 3",
   "language": "python",
   "name": "python3"
  },
  "language_info": {
   "codemirror_mode": {
    "name": "ipython",
    "version": 3
   },
   "file_extension": ".py",
   "mimetype": "text/x-python",
   "name": "python",
   "nbconvert_exporter": "python",
   "pygments_lexer": "ipython3",
   "version": "3.12.7"
  }
 },
 "nbformat": 4,
 "nbformat_minor": 5
}
