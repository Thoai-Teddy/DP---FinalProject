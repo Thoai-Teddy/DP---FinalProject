{
 "cells": [
  {
   "cell_type": "markdown",
   "id": "c0fc206c",
   "metadata": {},
   "source": [
    "# ĐỒ ÁN CUỐI KỲ - PHÂN TÍCH DỮ LIỆU BẢO TOÀN TÍNH RIÊNG TƯ"
   ]
  },
  {
   "cell_type": "markdown",
   "id": "fcce2c43",
   "metadata": {},
   "source": [
    "## THÀNH VIÊN NHÓM:\n",
    "\n",
    "- 22120304 - Nguyễn Thị Kim Quý\n",
    "\n",
    "- 22120338 - Đỗ Hạnh Thảo\n",
    "\n",
    "- 22120352 - Phạm Nguyễn Quang Thoại"
   ]
  },
  {
   "cell_type": "code",
   "execution_count": 94,
   "id": "3dd2509f",
   "metadata": {},
   "outputs": [],
   "source": [
    "import pandas as pd\n",
    "import numpy as np\n",
    "import re\n",
    "import matplotlib.pyplot as plt"
   ]
  },
  {
   "cell_type": "markdown",
   "id": "128bdee9",
   "metadata": {},
   "source": [
    "### 1. Đọc file"
   ]
  },
  {
   "cell_type": "code",
   "execution_count": 95,
   "id": "f61751d3",
   "metadata": {},
   "outputs": [
    {
     "name": "stdout",
     "output_type": "stream",
     "text": [
      "Số dòng trong train.csv 1317\n",
      "\n",
      "Số cột: 20\n",
      "Tên các cột: ['Make', 'Model', 'Price', 'Year', 'Kilometer', 'Fuel Type', 'Transmission', 'Location', 'Color', 'Owner', 'Seller Type', 'Engine', 'Max Power', 'Max Torque', 'Drivetrain', 'Length', 'Width', 'Height', 'Seating Capacity', 'Fuel Tank Capacity']\n",
      "\n",
      " 5 dòng đầu trong train.csv:\n",
      "\n",
      "        Make                                    Model    Price  Year  Kilometer Fuel Type Transmission   Location   Color   Owner Seller Type   Engine           Max Power         Max Torque  \\\n",
      "0  Ssangyong                               Rexton RX7   975000  2013      72000    Diesel    Automatic  Bangalore  Silver   First  Individual  2696 cc  184 bhp @ 4000 rpm  402 Nm @ 3000 rpm   \n",
      "1    Hyundai  Creta SX (O) 1.5 Petrol CVT [2020-2022]  1748999  2022       2670    Petrol    Automatic    Kolkata   White   First  Individual  1497 cc  113 bhp @ 6300 rpm  144 Nm @ 4500 rpm   \n",
      "2       Audi                     A4 2.0 TDI (143 bhp)  1150000  2012      40031    Diesel    Automatic       Pune    Blue  Second  Individual      NaN                 NaN                NaN   \n",
      "3    Hyundai        Grand i10 Magna AT 1.2 Kappa VTVT   549000  2018      53000    Petrol    Automatic  Hyderabad   White  Second  Individual  1197 cc   81 bhp @ 6000 rpm  114 Nm @ 4000 rpm   \n",
      "4    Hyundai                       Elite i20 Asta 1.2   675000  2017      48591    Petrol       Manual  Hyderabad   White   First  Individual  1197 cc   82 bhp @ 6000 rpm  115 Nm @ 4000 rpm   \n",
      "\n",
      "  Drivetrain  Length   Width  Height  Seating Capacity  Fuel Tank Capacity  \n",
      "0        AWD  4755.0  1900.0  1785.0               7.0                78.0  \n",
      "1        FWD  4300.0  1790.0  1635.0               5.0                50.0  \n",
      "2        NaN     NaN     NaN     NaN               NaN                 NaN  \n",
      "3        FWD  3765.0  1660.0  1520.0               5.0                43.0  \n",
      "4        FWD  3985.0  1734.0  1505.0               5.0                45.0  \n"
     ]
    }
   ],
   "source": [
    "train_data = pd.read_csv('train.csv')\n",
    "\n",
    "print(\"Số dòng trong train.csv\", len(train_data))\n",
    "print(f\"\\nSố cột: {len(train_data.columns)}\")\n",
    "print(\"Tên các cột:\", list(train_data.columns))\n",
    "print(\"\\n 5 dòng đầu trong train.csv:\\n\")\n",
    "print(train_data.head())"
   ]
  },
  {
   "cell_type": "markdown",
   "id": "6f1cdab1",
   "metadata": {},
   "source": [
    "### 2. Tiền xử lý dữ liệu"
   ]
  },
  {
   "cell_type": "code",
   "execution_count": 96,
   "id": "136ce16f",
   "metadata": {},
   "outputs": [],
   "source": [
    "# Hàm trích xuất số từ chuỗi\n",
    "def extract_number(s):\n",
    "    if pd.isna(s):\n",
    "        return np.nan\n",
    "    match = re.search(r'(\\d+)', str(s).replace(',', ''))\n",
    "    if match:\n",
    "        return int(match.group(1))\n",
    "    return np.nan\n",
    "\n",
    "# Hàm mã hóa nhãn\n",
    "def label_encode(series):\n",
    "    uniques = series.dropna().unique()\n",
    "    mapping = {k: v for v, k in enumerate(sorted(uniques))}\n",
    "    encoded = series.map(mapping)\n",
    "    return encoded, mapping"
   ]
  },
  {
   "cell_type": "code",
   "execution_count": 97,
   "id": "e264703f",
   "metadata": {},
   "outputs": [
    {
     "name": "stdout",
     "output_type": "stream",
     "text": [
      "Sau khi tiền xử lý dữ liệu cho train_data: \n",
      "Train.shape =  (1053, 19)\n",
      "Các cột trong X_train: ['Make', 'Model', 'Year', 'Kilometer', 'Fuel Type', 'Transmission', 'Location', 'Color', 'Owner', 'Seller Type', 'Engine', 'Max Power', 'Max Torque', 'Drivetrain', 'Length', 'Width', 'Height', 'Seating Capacity', 'Fuel Tank Capacity']\n",
      "Tổng số cột trong X_train: 19\n",
      "\n",
      " 5 dòng đầu trong X_train đã xử lý:\n",
      "\n",
      "       Make     Model      Year  Kilometer  Fuel Type  Transmission  Location     Color     Owner  Seller Type    Engine  Max Power  Max Torque  Drivetrain    Length     Width    Height  \\\n",
      "0  0.551763 -1.199533  0.766433  -0.339790  -0.902065     -1.089406 -0.858409 -1.926505 -0.492233     0.186028  0.359781   0.938467    1.059318    1.819817  0.889563  0.296545 -1.108091   \n",
      "1 -0.778030 -0.043865  0.181108  -0.081124   1.088752     -1.089406  1.302465  0.663426 -0.492233     0.186028 -0.763493  -0.748905   -0.936126   -0.048226 -1.156107 -0.793069 -0.529312   \n",
      "2  0.551763  0.240803 -0.696878   0.164248  -0.902065     -1.089406 -1.135444  0.848421  1.636735     0.186028  1.921624   1.880963    2.587298   -1.916269  1.151658  2.700959  1.518673   \n",
      "3  0.430872  1.341236 -0.989540  -0.135025   1.088752      0.917234  2.133570  0.848421 -0.492233     0.186028 -1.060347  -0.961726   -1.103576   -0.048226 -1.442634 -2.136925  0.583723   \n",
      "4  0.551763 -0.120343  1.059095  -0.576058  -0.902065     -1.089406 -0.858409 -1.371520 -0.492233     0.186028  0.359781   1.683343    1.757026   -1.916269  1.418195  2.817184  1.340588   \n",
      "\n",
      "   Seating Capacity  Fuel Tank Capacity  \n",
      "0         -0.381535            0.867927  \n",
      "1         -0.381535           -0.602007  \n",
      "2         -0.381535            1.123568  \n",
      "3         -0.381535           -1.113289  \n",
      "4         -0.381535            2.593502  \n"
     ]
    }
   ],
   "source": [
    "# Bước 1: Trích số từ các cột chuỗi số\n",
    "for col in ['Engine', 'Max Power', 'Max Torque']:\n",
    "    train_data[col] = train_data[col].apply(extract_number)\n",
    "    \n",
    "# Bước 2: Label encoding thủ công cho các cột phân loại\n",
    "categorical_cols = ['Make', 'Model', 'Fuel Type', 'Transmission', 'Location', \n",
    "                    'Color', 'Owner', 'Seller Type', 'Drivetrain']\n",
    "mappings = {}\n",
    "# Lưu mode để xử lý NaN trong test\n",
    "categorical_modes = {}\n",
    "categorical_means = {}\n",
    "categorical_stds = {}\n",
    "train_data_means = {}\n",
    "train_data_stds = {}\n",
    "  \n",
    "\n",
    "# Với categorical NaN -> Điền thiếu bằng mode (giá trị xuất hiện nhiều nhất)\n",
    "for col in categorical_cols:\n",
    "    mode = train_data[col].mode()[0]  # lấy giá trị xuất hiện nhiều nhất\n",
    "    train_data[col] = train_data[col].fillna(mode)\n",
    "\n",
    "# In ra giá trị được fill\n",
    "for col in categorical_cols:\n",
    "    mode = train_data[col].mode()[0]\n",
    "    categorical_modes[col] = mode\n",
    "    # print(f\"Mode of {col}: {mode}\")\n",
    "\n",
    "# Label encoding\n",
    "for col in categorical_cols:\n",
    "    train_data[col], mappings[col] = label_encode(train_data[col])\n",
    "\n",
    "# Chuẩn hóa dữ liệu categorical\n",
    "for col in categorical_cols:\n",
    "    mean = train_data[col].mean()\n",
    "    std = train_data[col].std()\n",
    "    if std == 0:\n",
    "        std = 1e-8  # tránh chia 0\n",
    "    categorical_means[col] = mean\n",
    "    categorical_stds[col] = std\n",
    "    train_data[col] = (train_data[col] - mean) / std\n",
    "    \n",
    "# Với numeric NaN -> trung bình cột train\n",
    "numeric_cols = ['Year', 'Kilometer', 'Engine', 'Max Power', 'Max Torque', \n",
    "                'Length', 'Width', 'Height', 'Seating Capacity', 'Fuel Tank Capacity']\n",
    "\n",
    "for col in numeric_cols:\n",
    "    mean = train_data[col].mean()\n",
    "    std = train_data[col].std()\n",
    "    if std == 0:\n",
    "        std = 1e-8\n",
    "    train_data_means[col] = mean\n",
    "    train_data_stds[col] = std\n",
    "    train_data[col] = train_data[col].fillna(mean)\n",
    "    train_data[col] = (train_data[col] - mean) / std\n",
    "\n",
    "# Shuffle toàn bộ dữ liệu để đảm bảo phân phối ngẫu nhiên\n",
    "train_data = train_data.sample(frac=1, random_state=42).reset_index(drop=True)\n",
    "\n",
    "# Tính số mẫu cho tập train\n",
    "train_size = int(0.8 * len(train_data))\n",
    "\n",
    "# Tách thủ công\n",
    "train_part = train_data[:train_size]\n",
    "val_part = train_data[train_size:]\n",
    "\n",
    "# Bước 5: Tách X và Y\n",
    "X_train = train_part.drop(columns=['Price'])\n",
    "y_train = train_part['Price']\n",
    "\n",
    "X_val = val_part.drop(columns=['Price'])\n",
    "y_val = val_part['Price']\n",
    "\n",
    "print(\"Sau khi tiền xử lý dữ liệu cho train_data: \")\n",
    "\n",
    "print(\"Train.shape = \", X_train.shape)\n",
    "print(\"Các cột trong X_train:\", list(X_train.columns))\n",
    "print(\"Tổng số cột trong X_train:\", len(X_train.columns))\n",
    "print(\"\\n 5 dòng đầu trong X_train đã xử lý:\\n\")\n",
    "pd.set_option('display.max_columns', None)  # Hiện tất cả các cột\n",
    "pd.set_option('display.width', 200)         # Tăng chiều rộng hiển thị\n",
    "print(X_train.head())"
   ]
  },
  {
   "cell_type": "code",
   "execution_count": 98,
   "id": "cd9a557d",
   "metadata": {},
   "outputs": [
    {
     "name": "stdout",
     "output_type": "stream",
     "text": [
      "Sau khi tiền xử lý dữ liệu cho train_data: \n",
      "Val.shape =  (264, 19)\n",
      "Các cột trong X_val: ['Make', 'Model', 'Year', 'Kilometer', 'Fuel Type', 'Transmission', 'Location', 'Color', 'Owner', 'Seller Type', 'Engine', 'Max Power', 'Max Torque', 'Drivetrain', 'Length', 'Width', 'Height', 'Seating Capacity', 'Fuel Tank Capacity']\n",
      "Tổng số cột trong X_train: 19\n",
      "\n",
      " 5 dòng đầu trong X_val đã xử lý:\n",
      "\n",
      "          Make     Model      Year  Kilometer  Fuel Type  Transmission  Location     Color     Owner  Seller Type    Engine  Max Power  Max Torque  Drivetrain    Length     Width    Height  \\\n",
      "1053 -1.019811 -1.339743  0.766433  -0.308288  -0.902065      0.917234 -1.246258  0.848421 -0.492233     0.186028 -0.314482  -0.475277   -0.231441   -0.048226 -0.645245 -0.473449 -0.492211   \n",
      "1054  0.430872 -1.276011  0.181108  -0.229532   1.088752     -1.089406  1.302465 -1.556515 -0.492233     0.186028 -0.763493  -0.718502   -0.929149   -0.048226 -0.645245 -0.175621 -0.677717   \n",
      "1055 -0.536250  1.455953 -0.404216   0.127154  -0.902065     -1.089406 -0.304339 -1.371520 -0.492233     0.186028  0.000000   0.000000    0.000000   -0.048226  0.000000  0.000000  0.000000   \n",
      "1056 -0.778030 -0.005626  0.181108  -0.402795   1.088752      0.917234 -1.301665 -0.631540 -0.492233     0.186028 -0.763493  -0.748905   -0.936126   -0.048226 -1.156107 -0.793069 -0.529312   \n",
      "1057  0.551763 -1.174040  0.766433  -0.591809  -0.902065     -1.089406 -0.858409  0.478431 -0.492233     0.186028  0.647685   0.087180    0.361610   -0.048226  0.765179  0.056830 -1.182293   \n",
      "\n",
      "      Seating Capacity  Fuel Tank Capacity  \n",
      "1053         -0.381535           -0.793738  \n",
      "1054         -0.381535           -0.985468  \n",
      "1055          0.000000            0.000000  \n",
      "1056         -0.381535           -0.602007  \n",
      "1057         -0.381535            0.228825  \n"
     ]
    }
   ],
   "source": [
    "print(\"Sau khi tiền xử lý dữ liệu cho train_data: \")\n",
    "\n",
    "print(\"Val.shape = \", X_val.shape)\n",
    "print(\"Các cột trong X_val:\", list(X_val.columns))\n",
    "print(\"Tổng số cột trong X_train:\", len(X_val.columns))\n",
    "print(\"\\n 5 dòng đầu trong X_val đã xử lý:\\n\")\n",
    "pd.set_option('display.max_columns', None)  # Hiện tất cả các cột\n",
    "pd.set_option('display.width', 200)         # Tăng chiều rộng hiển thị\n",
    "print(X_val.head())"
   ]
  },
  {
   "cell_type": "markdown",
   "id": "396b9613",
   "metadata": {},
   "source": [
    "### 3.1 - 3.2: Xây dựng mô hình và huấn luyện"
   ]
  },
  {
   "cell_type": "markdown",
   "id": "494ddf5d",
   "metadata": {},
   "source": [
    "Mô hình: Linear Regression\n",
    "\n",
    "Thuật toán tối ưu: Stochastic Gradient Descent"
   ]
  },
  {
   "cell_type": "markdown",
   "id": "3da58a65",
   "metadata": {},
   "source": [
    "**Các cột dữ liệu được chọn**:\n",
    "\n",
    "- Make: Thương hiệu của xe. Các thương hiệu lớn và uy tín thường có giá trị cao hơn nhờ chất lượng, độ bền và nhận diện thương hiệu.\n",
    "\n",
    "- Year: Năm sản xuất ảnh hưởng đến độ mới và giá trị còn lại của xe. Xe càng mới thường có giá cao hơn.\n",
    "\n",
    "- Kilometer: Số km xe đã đi là chỉ số phản ánh mức độ sử dụng và hao mòn – ảnh hưởng trực tiếp đến giá trị xe.\n",
    "\n",
    "- Fuel Type: Loại nhiên liệu (xăng, dầu, điện, hybrid...) có ảnh hưởng đến chi phí sử dụng và giá bán. Xe điện/hybrid thường có giá cao hơn.\n",
    "\n",
    "- Transmission: Hộp số của xe (tự động hoặc số sàn). Xe số tự động thường có giá cao hơn xe số sàn do tiện lợi hơn khi lái.\n",
    "\n",
    "- Owner: Xe đã qua nhiều chủ có thể bị đánh giá thấp hơn về độ tin cậy, từ đó ảnh hưởng đến giá.\n",
    "\n",
    "- Seller Type: Đơn vị bán (cá nhân, đại lý, showroom) chuyên nghiệp thường có độ uy tín cao hơn, khiến giá bán có thể cao hơn.\n",
    "\n",
    "- Engine: Dung tích hoặc công suất động cơ. Động cơ lớn hơn thường cho hiệu suất cao hơn, kéo theo giá trị xe tăng.\n",
    "\n",
    "- Max Power: Công suất cực đại thể hiện hiệu năng vận hành – thường tỷ lệ thuận với giá xe.\n",
    "\n",
    "- Drivetrain: Hệ thống truyền động (FWD, RWD, AWD...) ảnh hưởng đến khả năng vận hành và phù hợp với điều kiện địa hình – từ đó ảnh hưởng đến giá.\n",
    "\n",
    "- Seating Capacity: Sức chứa của xe. Xe 4 chỗ, 7 chỗ hay 9 chỗ phục vụ các nhu cầu khác nhau và có mức giá khác nhau.\n",
    "\n",
    "- Fuel Tank Capacity: Dung tích bình nhiên liệu không ảnh hưởng lớn đến giá, nhưng phần nào phản ánh kích thước và phân khúc xe."
   ]
  },
  {
   "cell_type": "markdown",
   "id": "24e86d01",
   "metadata": {},
   "source": [
    "**Các công thức hồi quy sẽ sử dụng**:\n",
    "\n",
    "**Công thức 1**:  y = a1​x1 ​+ a2​x2 ​+  ⋯ + a12​x12​\n",
    "\n",
    "**Công thức 2**: y = a1x1 + a2x2 + a2x2^2 + a3x3 + a3x3^2 + a4x4 + a5x5 + a6x6 + a7x7 + a8x8 + a8x8^2 + a9x9 + a9x9^2 +  a10x10 + a11x11 + a12x12 + a12x12^2  \n",
    "\n",
    "**Công thức 3**: \n",
    "- y = a1​x1 ​+ a2​x2 ​+  ⋯ + a12​x12\n",
    "\n",
    "+ a13(x1 + x2) + a14(x2 + x3) + a15(x4 + x8) + a16(x4 +x9) + a17(x8 + x10) + a18(x11 + x12)\n",
    "\n",
    "+ a19(x2 * x3) + a20(x8 * x9) + a21(x9 * x12) a22(x3 * x11) + a23(x4 * x5) + a24(x6 * x7)\n",
    "\n",
    "+ a25safe_sqrt(x3) + a26safe_sqrt(x8) + a27safe_sqrt(x9) + a28safe_sqrt(x12)\n",
    "\n",
    "+ a29x2^2 + a30x3^2 + a31x8^2 + a32x9^2 + a33x12^2\n",
    "\n",
    "+ a34safe_sqrt(x3 * x9)\n",
    "\n",
    "**Công thức 4: Ridge Regression (L2 Regularization)**: λ∑(ai^2): Tránh overfitting"
   ]
  },
  {
   "cell_type": "code",
   "execution_count": 99,
   "id": "ae2831ac",
   "metadata": {},
   "outputs": [
    {
     "name": "stdout",
     "output_type": "stream",
     "text": [
      "Columns in X_train: ['Make', 'Year', 'Kilometer', 'Fuel Type', 'Transmission', 'Owner', 'Seller Type', 'Engine', 'Max Power', 'Drivetrain', 'Seating Capacity', 'Fuel Tank Capacity']\n",
      "5 dòng dữ liệu đầu:\n",
      "        Make      Year  Kilometer  Fuel Type  Transmission     Owner  Seller Type    Engine  Max Power  Drivetrain  Seating Capacity  Fuel Tank Capacity\n",
      "0  0.551763  0.766433  -0.339790  -0.902065     -1.089406 -0.492233     0.186028  0.359781   0.938467    1.819817         -0.381535            0.867927\n",
      "1 -0.778030  0.181108  -0.081124   1.088752     -1.089406 -0.492233     0.186028 -0.763493  -0.748905   -0.048226         -0.381535           -0.602007\n",
      "2  0.551763 -0.696878   0.164248  -0.902065     -1.089406  1.636735     0.186028  1.921624   1.880963   -1.916269         -0.381535            1.123568\n",
      "3  0.430872 -0.989540  -0.135025   1.088752      0.917234 -0.492233     0.186028 -1.060347  -0.961726   -0.048226         -0.381535           -1.113289\n",
      "4  0.551763  1.059095  -0.576058  -0.902065     -1.089406 -0.492233     0.186028  0.359781   1.683343   -1.916269         -0.381535            2.593502\n",
      "\n",
      "Columns in X_val: ['Make', 'Year', 'Kilometer', 'Fuel Type', 'Transmission', 'Owner', 'Seller Type', 'Engine', 'Max Power', 'Drivetrain', 'Seating Capacity', 'Fuel Tank Capacity']\n",
      "5 dòng dữ liệu đầu:\n",
      "           Make      Year  Kilometer  Fuel Type  Transmission     Owner  Seller Type    Engine  Max Power  Drivetrain  Seating Capacity  Fuel Tank Capacity\n",
      "1053 -1.019811  0.766433  -0.308288  -0.902065      0.917234 -0.492233     0.186028 -0.314482  -0.475277   -0.048226         -0.381535           -0.793738\n",
      "1054  0.430872  0.181108  -0.229532   1.088752     -1.089406 -0.492233     0.186028 -0.763493  -0.718502   -0.048226         -0.381535           -0.985468\n",
      "1055 -0.536250 -0.404216   0.127154  -0.902065     -1.089406 -0.492233     0.186028  0.000000   0.000000   -0.048226          0.000000            0.000000\n",
      "1056 -0.778030  0.181108  -0.402795   1.088752      0.917234 -0.492233     0.186028 -0.763493  -0.748905   -0.048226         -0.381535           -0.602007\n",
      "1057  0.551763  0.766433  -0.591809  -0.902065     -1.089406 -0.492233     0.186028  0.647685   0.087180   -0.048226         -0.381535            0.228825\n"
     ]
    }
   ],
   "source": [
    "cols = ['Make','Year', 'Kilometer', 'Fuel Type', 'Transmission','Owner','Seller Type', 'Engine', 'Max Power','Drivetrain','Seating Capacity', 'Fuel Tank Capacity']\n",
    "X_train_official = X_train[cols]\n",
    "X_val_official = X_val[cols]\n",
    "\n",
    "print(\"Columns in X_train:\", list(X_train_official.columns))\n",
    "print(\"5 dòng dữ liệu đầu:\\n\", X_train_official.head())\n",
    "\n",
    "print(\"\\nColumns in X_val:\", list(X_val_official.columns))\n",
    "print(\"5 dòng dữ liệu đầu:\\n\", X_val_official.head())"
   ]
  },
  {
   "cell_type": "code",
   "execution_count": 100,
   "id": "db79cfbd",
   "metadata": {},
   "outputs": [],
   "source": [
    "# Tính mean và std của y_train\n",
    "y_mean = y_train.mean()\n",
    "y_std = y_train.std()\n",
    "\n",
    "# Chuẩn hóa y_train\n",
    "y_train_scaled = (y_train - y_mean) / y_std\n",
    "y_val_scaled = (y_val - y_mean) / y_std"
   ]
  },
  {
   "cell_type": "code",
   "execution_count": 101,
   "id": "889d36b2",
   "metadata": {},
   "outputs": [],
   "source": [
    "def mean_squared_error(y_true, y_pred):\n",
    "    return np.mean((y_true - y_pred) ** 2)\n",
    "\n",
    "def sgd_linear_regression(X, y, transform_fn, lr=1e-6, max_epoch=500, lambda_l2=0.0,\n",
    "                          X_val=None, y_val=None):\n",
    "    n_samples = X.shape[0]\n",
    "    X_transformed = transform_fn(X)\n",
    "    n_features = X_transformed.shape[1]\n",
    "    weights = np.zeros(n_features)\n",
    "\n",
    "    for epoch in range(max_epoch):\n",
    "        indices = np.arange(n_samples)\n",
    "        np.random.shuffle(indices)\n",
    "        for i in indices:\n",
    "            xi = X_transformed[i]\n",
    "            yi = y[i]\n",
    "            y_pred = np.dot(weights, xi)\n",
    "            error = y_pred - yi\n",
    "            gradient = error * xi + 2 * lambda_l2 * weights\n",
    "\n",
    "            if np.any(np.isnan(gradient)) or np.any(np.isinf(gradient)):\n",
    "                continue\n",
    "\n",
    "            weights_new = weights - lr * gradient\n",
    "            if np.any(np.isnan(weights_new)) or np.any(np.isinf(weights_new)):\n",
    "                continue\n",
    "\n",
    "            weights = weights_new\n",
    "\n",
    "    # Kết thúc huấn luyện → dự đoán trên train\n",
    "    y_pred_scaled = np.dot(X_transformed, weights)\n",
    "    mse_scaled = mean_squared_error(y, y_pred_scaled)\n",
    "    y_pred_original = y_pred_scaled * y_std + y_mean\n",
    "    y_original = y * y_std + y_mean\n",
    "    mse_original = mean_squared_error(y_original, y_pred_original)\n",
    "\n",
    "    # Dự đoán trên validation nếu có\n",
    "    val_mse_original, val_mse_scaled = None, None\n",
    "    if X_val is not None and y_val is not None:\n",
    "        X_val_transformed = transform_fn(X_val)\n",
    "        y_val_pred_scaled = np.dot(X_val_transformed, weights)\n",
    "        val_mse_scaled = mean_squared_error(y_val, y_val_pred_scaled)\n",
    "        y_val_pred_original = y_val_pred_scaled * y_std + y_mean\n",
    "        y_val_original = y_val * y_std + y_mean\n",
    "        val_mse_original = mean_squared_error(y_val_original, y_val_pred_original)\n",
    "\n",
    "    return weights, mse_original, mse_scaled, val_mse_original, val_mse_scaled\n",
    "\n"
   ]
  },
  {
   "cell_type": "code",
   "execution_count": 102,
   "id": "884ff4d1",
   "metadata": {},
   "outputs": [],
   "source": [
    "#Công thức 1\n",
    "def formula_1(X):  \n",
    "    return X[:, [0, 1, 2, 3, 4, 5, 6, 7, 8, 9, 10, 11]]"
   ]
  },
  {
   "cell_type": "code",
   "execution_count": 103,
   "id": "79bb0444",
   "metadata": {},
   "outputs": [],
   "source": [
    "#Công thức 2\n",
    "def formula_2(X):  \n",
    "    return np.column_stack((\n",
    "        X[:,0],         # Make\n",
    "        X[:,1],         # Year\n",
    "        X[:,1]**2,      # Year^2\n",
    "        X[:,2],         # Kilometer\n",
    "        X[:,2]**2,      # Kilometer^2\n",
    "        X[:,3],         # Fuel Type    \n",
    "        X[:,4],         # Transmission\n",
    "        X[:,5],         # Owner\n",
    "        X[:,6],         # Seller Type\n",
    "        X[:,7],         # Engine\n",
    "        X[:,7]**2,      # Engine^2\n",
    "        X[:,8],         # Max Power\n",
    "        X[:,8]**2,      # Max Power^2\n",
    "        X[:,9],         # Drivetrain\n",
    "        X[:,10],        # Seating Capacity\n",
    "        X[:,11],        # Fuel Tank Capacity\n",
    "        X[:,11]**2,     # Fuel Tank Capacity^2\n",
    "    ))\n",
    "    \n",
    "# Bỏ qua Seating Capacity, Drivetrain, Owner, Fuel Type, Seller Type vì chúng là dạng phân loại đã chuẩn hóa → không nên bình phương."
   ]
  },
  {
   "cell_type": "code",
   "execution_count": 104,
   "id": "4b6b5720",
   "metadata": {},
   "outputs": [],
   "source": [
    "# Công thức 3\n",
    "def formula_3(X):\n",
    "    x1 = X[:, 0]                # Make\n",
    "    x2 = X[:, 1]                # Year\n",
    "    x3 = X[:, 2]                # Kilometer\n",
    "    x4 = X[:, 3]                # Fuel Type\n",
    "    x5 = X[:, 4]                # Transmission\n",
    "    x6 = X[:, 5]                # Owner\n",
    "    x7 = X[:, 6]                # Seller Type\n",
    "    x8 = X[:, 7]                # Engine\n",
    "    x9 = X[:, 8]                # Max Power\n",
    "    x10 = X[:, 9]               # Drivetrain\n",
    "    x11 = X[:, 10]              # Seating Capacity\n",
    "    x12 = X[:, 11]              # Fuel Tank Capacity\n",
    "    \n",
    "    safe_sqrt = lambda x: np.sqrt(np.abs(x))\n",
    "    safe_log = lambda x: np.log1p(np.abs(x))\n",
    "    sigmoid = lambda x: 1 / (1 + np.exp(-x))\n",
    "\n",
    "    return np.column_stack((\n",
    "        # --------- Gốc ---------\n",
    "        x1, x2, x3, x4, x5, x6, x7, x8, x9, x10, x11, x12,\n",
    "\n",
    "        # --------- Tổng ---------\n",
    "        x1 + x2, x2 + x3, x4 + x8, x4 + x9, x8 + x10, x11 + x12,\n",
    "\n",
    "        # --------- Nhân ---------\n",
    "        x2 * x3, x8 * x9, x9 * x12, x3 * x11, x4 * x5, x6 * x7,\n",
    "\n",
    "        # --------- Căn bậc hai ---------\n",
    "        safe_sqrt(x3), safe_sqrt(x8), safe_sqrt(x9), safe_sqrt(x12),\n",
    "\n",
    "        # --------- Bình phương ---------\n",
    "        x2**2, x3**2, x8**2, x9**2, x12**2,\n",
    "        \n",
    "        # --------- Tương tác khác ---------\n",
    "        safe_sqrt(x3 * x9)  \n",
    "    ))"
   ]
  },
  {
   "cell_type": "code",
   "execution_count": 105,
   "id": "ba667c0b",
   "metadata": {},
   "outputs": [],
   "source": [
    "# Công thức 4\n",
    "def formula_4_ridge(X):  \n",
    "    return(X)"
   ]
  },
  {
   "cell_type": "code",
   "execution_count": 108,
   "id": "8948f516",
   "metadata": {},
   "outputs": [
    {
     "name": "stdout",
     "output_type": "stream",
     "text": [
      "Công thức 1:\n",
      "MSE (Train, gốc): 2543830550897.08\n",
      "MSE (Train, chuẩn hóa): 0.44\n",
      "MSE (Val, gốc): 2769501836302.59\n",
      "MSE (Val, chuẩn hóa): 0.48\n",
      "Weights: [-0.00605606  0.11219297 -0.04959449 -0.01908129 -0.11729359  0.0056488\n",
      " -0.02213693  0.16031733  0.21655429 -0.0223691  -0.03133778  0.14284323]\n",
      "\n"
     ]
    }
   ],
   "source": [
    "weights1, mse1, mse_scaled1, val_mse1, val_mse_scaled1 = sgd_linear_regression(\n",
    "    X_train_official.values,\n",
    "    y_train_scaled.values,\n",
    "    formula_1,\n",
    "    lambda_l2=0.0,\n",
    "    X_val=X_val_official.values,\n",
    "    y_val=y_val_scaled.values\n",
    ")\n",
    "\n",
    "print(\"Công thức 1:\")\n",
    "print(f\"MSE (Train, gốc): {mse1:.2f}\")\n",
    "print(f\"MSE (Train, chuẩn hóa): {mse_scaled1:.2f}\")\n",
    "print(f\"MSE (Val, gốc): {val_mse1:.2f}\")\n",
    "print(f\"MSE (Val, chuẩn hóa): {val_mse_scaled1:.2f}\")\n",
    "print(f\"Weights: {weights1}\\n\")"
   ]
  },
  {
   "cell_type": "code",
   "execution_count": 109,
   "id": "5bf971b8",
   "metadata": {},
   "outputs": [
    {
     "name": "stdout",
     "output_type": "stream",
     "text": [
      "Công thức 2:\n",
      "MSE (Train, gốc): 2199783524440.65\n",
      "MSE (Train, chuẩn hóa): 0.38\n",
      "MSE (Val, gốc): 2456351638774.54\n",
      "MSE (Val, chuẩn hóa): 0.42\n",
      "Weights: [-0.01166753  0.11817981 -0.03341096 -0.05168823  0.00129078 -0.03924224\n",
      " -0.10881039 -0.00487749 -0.0148374   0.08900102 -0.00996293  0.14025925\n",
      "  0.1050952  -0.01940668 -0.02034312  0.11831712  0.05575117]\n",
      "\n"
     ]
    }
   ],
   "source": [
    "weights2, mse2, mse_scaled2, val_mse2, val_mse_scaled2 = sgd_linear_regression(\n",
    "    X_train_official.values,\n",
    "    y_train_scaled.values,\n",
    "    formula_2,\n",
    "    lambda_l2=0.0,\n",
    "    X_val=X_val_official.values,\n",
    "    y_val=y_val_scaled.values\n",
    ")\n",
    "\n",
    "print(\"Công thức 2:\")\n",
    "print(f\"MSE (Train, gốc): {mse2:.2f}\")\n",
    "print(f\"MSE (Train, chuẩn hóa): {mse_scaled2:.2f}\")\n",
    "print(f\"MSE (Val, gốc): {val_mse2:.2f}\")\n",
    "print(f\"MSE (Val, chuẩn hóa): {val_mse_scaled2:.2f}\")\n",
    "print(f\"Weights: {weights2}\\n\")"
   ]
  },
  {
   "cell_type": "code",
   "execution_count": 110,
   "id": "564daa09",
   "metadata": {},
   "outputs": [
    {
     "name": "stdout",
     "output_type": "stream",
     "text": [
      "Công thức 3:\n",
      "MSE (Train, gốc): 2017107225624.62\n",
      "MSE (Train, chuẩn hóa): 0.35\n",
      "MSE (Val, gốc): 2102989275642.50\n",
      "MSE (Val, chuẩn hóa): 0.36\n",
      "Weights: [-0.03214594  0.093922   -0.04718588 -0.04862204 -0.09295839 -0.00200782\n",
      " -0.01136842  0.06339111  0.11310483 -0.0294671  -0.04178643  0.09094156\n",
      "  0.06177606  0.04673612  0.01476907  0.06448279  0.03392401  0.04915513\n",
      " -0.00497494  0.02018469  0.04699576 -0.01505652  0.02140264  0.00771887\n",
      " -0.02269537 -0.04159768 -0.01565835 -0.03339651 -0.01550679 -0.00032205\n",
      " -0.02717623  0.08521567  0.04582939 -0.00141488]\n",
      "\n"
     ]
    }
   ],
   "source": [
    "weights3, mse3, mse_scaled3, val_mse3, val_mse_scaled3 = sgd_linear_regression(\n",
    "    X_train_official.values,\n",
    "    y_train_scaled.values,\n",
    "    formula_3,\n",
    "    lambda_l2=0.0,\n",
    "    X_val=X_val_official.values,\n",
    "    y_val=y_val_scaled.values\n",
    ")\n",
    "\n",
    "print(\"Công thức 3:\")\n",
    "print(f\"MSE (Train, gốc): {mse3:.2f}\")\n",
    "print(f\"MSE (Train, chuẩn hóa): {mse_scaled3:.2f}\")\n",
    "print(f\"MSE (Val, gốc): {val_mse3:.2f}\")\n",
    "print(f\"MSE (Val, chuẩn hóa): {val_mse_scaled3:.2f}\")\n",
    "print(f\"Weights: {weights3}\\n\")"
   ]
  },
  {
   "cell_type": "code",
   "execution_count": 111,
   "id": "951c91d9",
   "metadata": {},
   "outputs": [
    {
     "name": "stdout",
     "output_type": "stream",
     "text": [
      "Công thức 4:\n",
      "MSE (Train, gốc): 2549024730671.60\n",
      "MSE (Train, chuẩn hóa): 0.44\n",
      "MSE (Val, gốc): 2774931566649.80\n",
      "MSE (Val, chuẩn hóa): 0.48\n",
      "Weights: [-0.00604425  0.11167406 -0.04937462 -0.01905623 -0.11686309  0.00563767\n",
      " -0.02205441  0.15969965  0.21566099 -0.02228296 -0.03114062  0.14230456]\n",
      "\n"
     ]
    }
   ],
   "source": [
    "weights4, mse4, mse_scaled4, val_mse4, val_mse_scaled4 = sgd_linear_regression(\n",
    "    X_train_official.values,\n",
    "    y_train_scaled.values,\n",
    "    formula_4_ridge,\n",
    "    lambda_l2=0.01,\n",
    "    X_val=X_val_official.values,\n",
    "    y_val=y_val_scaled.values\n",
    ")\n",
    "\n",
    "print(\"Công thức 4:\")\n",
    "print(f\"MSE (Train, gốc): {mse4:.2f}\")\n",
    "print(f\"MSE (Train, chuẩn hóa): {mse_scaled4:.2f}\")\n",
    "print(f\"MSE (Val, gốc): {val_mse4:.2f}\")\n",
    "print(f\"MSE (Val, chuẩn hóa): {val_mse_scaled4:.2f}\")\n",
    "print(f\"Weights: {weights4}\\n\")"
   ]
  },
  {
   "cell_type": "code",
   "execution_count": 112,
   "id": "d0edf9e7",
   "metadata": {},
   "outputs": [
    {
     "name": "stdout",
     "output_type": "stream",
     "text": [
      "Công thức tốt nhất là công thức 3 với MSE = 2017107225624.62\n",
      " Và MSE (chuẩn hoá): 0.3482208481126286\n"
     ]
    }
   ],
   "source": [
    "mse_list = [mse1, mse2, mse3, mse4]\n",
    "mse_scaled_list = [mse_scaled1, mse_scaled2, mse_scaled3, mse_scaled4]\n",
    "best_formula_index = mse_list.index(min(mse_list)) \n",
    "\n",
    "print(f\"Công thức tốt nhất là công thức {best_formula_index + 1} với MSE = {min(mse_list):.2f}\\n Và MSE (chuẩn hoá): {mse_scaled_list[best_formula_index]}\")\n"
   ]
  },
  {
   "cell_type": "markdown",
   "id": "642e3ba8",
   "metadata": {},
   "source": [
    "### Đọc file test.csv"
   ]
  },
  {
   "cell_type": "code",
   "execution_count": 113,
   "id": "33d8f5d8",
   "metadata": {},
   "outputs": [
    {
     "name": "stdout",
     "output_type": "stream",
     "text": [
      "Số dòng trong test.csv 330\n",
      "\n",
      "Số cột: 20\n",
      "Tên các cột: ['Make', 'Model', 'Price', 'Year', 'Kilometer', 'Fuel Type', 'Transmission', 'Location', 'Color', 'Owner', 'Seller Type', 'Engine', 'Max Power', 'Max Torque', 'Drivetrain', 'Length', 'Width', 'Height', 'Seating Capacity', 'Fuel Tank Capacity']\n",
      "\n",
      " 5 dòng đầu trong test.csv:\n",
      "\n",
      "            Make                           Model    Price  Year  Kilometer Fuel Type Transmission  Location   Color   Owner Seller Type   Engine           Max Power         Max Torque Drivetrain  \\\n",
      "0           Ford      Endeavour Trend 2.2 4x2 AT  2350000  2016      75000    Diesel    Automatic    Mohali   White  Second  Individual  2198 cc  158 bhp @ 3200 rpm  385 Nm @ 1600 rpm        RWD   \n",
      "1         Toyota  Urban Cruiser Premium Grade AT  1050000  2021       1910    Petrol    Automatic  Varanasi   White   First  Individual  1462 cc  103 bhp @ 6000 rpm  138 Nm @ 4400 rpm        FWD   \n",
      "2  Maruti Suzuki                    Alto 800 Lxi   210000  2014      42505    Petrol       Manual    Purnea     Red   First  Individual   796 cc   47 bhp @ 6000 rpm   69 Nm @ 3500 rpm        FWD   \n",
      "3          Honda                  City SV Diesel   550000  2014      85000    Diesel       Manual    Jaipur  Silver   First  Individual  1498 cc   99 bhp @ 3600 rpm  200 Nm @ 1750 rpm        FWD   \n",
      "4        Hyundai                       Eon Era +   290000  2018      70000    Petrol       Manual     Kheda   White   First  Individual   814 cc   55 bhp @ 5500 rpm   75 Nm @ 4000 rpm        FWD   \n",
      "\n",
      "   Length   Width  Height  Seating Capacity  Fuel Tank Capacity  \n",
      "0  4892.0  1860.0  1837.0               7.0                80.0  \n",
      "1  3995.0  1790.0  1640.0               5.0                48.0  \n",
      "2  3395.0  1490.0  1475.0               5.0                35.0  \n",
      "3  4440.0  1695.0  1495.0               5.0                40.0  \n",
      "4  3495.0  1550.0  1500.0               5.0                32.0  \n"
     ]
    }
   ],
   "source": [
    "test_data = pd.read_csv('test.csv')\n",
    "print(\"Số dòng trong test.csv\", len(test_data))\n",
    "print(f\"\\nSố cột: {len(test_data.columns)}\")\n",
    "print(\"Tên các cột:\", list(test_data.columns))\n",
    "print(\"\\n 5 dòng đầu trong test.csv:\\n\")\n",
    "print(test_data.head())"
   ]
  },
  {
   "cell_type": "code",
   "execution_count": 114,
   "id": "f63db3d8",
   "metadata": {},
   "outputs": [
    {
     "name": "stdout",
     "output_type": "stream",
     "text": [
      "Sau khi tiền xử lý dữ liệu cho test_data:\n",
      "Test.shape =  (330, 19)\n",
      "Các cột trong X_test: ['Make', 'Model', 'Year', 'Kilometer', 'Fuel Type', 'Transmission', 'Location', 'Color', 'Owner', 'Seller Type', 'Engine', 'Max Power', 'Max Torque', 'Drivetrain', 'Length', 'Width', 'Height', 'Seating Capacity', 'Fuel Tank Capacity']\n",
      "\n",
      "5 dòng đầu trong X_test đã xử lý:\n",
      "\n",
      "       Make     Model      Year  Kilometer  Fuel Type  Transmission  Location     Color     Owner  Seller Type    Engine  Max Power  Max Torque  Drivetrain    Length     Width    Height  \\\n",
      "0 -1.019811 -1.717884 -0.111554   0.321759  -0.902065     -1.089406  0.637580  0.848421  1.636735     0.186028  0.729731   0.421614    0.954662    1.819817  1.347118  0.659749  1.822903   \n",
      "1  1.639775 -1.717884  1.351757  -0.829494   1.088752     -1.089406  2.133570  0.848421 -0.492233     0.186028 -0.368184  -0.414471   -0.768676   -0.048226 -0.645245  0.151263  0.361116   \n",
      "2  0.430872 -1.475704 -0.696878  -0.190075   1.088752      0.917234  1.357872  0.478431 -0.492233     0.186028 -1.361677  -1.265757   -1.250095   -0.048226 -1.977929 -2.027964 -0.863223   \n",
      "3 -0.898921 -0.982845 -0.696878   0.479271  -0.902065      0.917234 -0.193525  0.663426 -0.492233     0.186028 -0.314482  -0.475277   -0.336098   -0.048226  0.343163 -0.538826 -0.714818   \n",
      "4 -0.778030 -0.354026  0.473770   0.243003   1.088752      0.917234  0.138917  0.848421 -0.492233     0.186028 -1.334826  -1.144145   -1.208232   -0.048226 -1.755815 -1.592119 -0.677717   \n",
      "\n",
      "   Seating Capacity  Fuel Tank Capacity  \n",
      "0          2.073393            1.762669  \n",
      "1         -0.381535           -0.282456  \n",
      "2         -0.381535           -1.113289  \n",
      "3         -0.381535           -0.793738  \n",
      "4         -0.381535           -1.305019  \n"
     ]
    }
   ],
   "source": [
    "# Bước 1: Trích số từ các cột chuỗi số\n",
    "for col in ['Engine', 'Max Power', 'Max Torque']:\n",
    "    test_data[col] = test_data[col].apply(extract_number)\n",
    "\n",
    "# Bước 2: Xử lý các cột phân loại\n",
    "categorical_cols = ['Make', 'Model', 'Fuel Type', 'Transmission', 'Location', \n",
    "                    'Color', 'Owner', 'Seller Type', 'Drivetrain']\n",
    "\n",
    "# Điền thiếu bằng mode đã lưu từ train\n",
    "for col in categorical_cols:\n",
    "    mode = categorical_modes[col]  # dùng mode từ train\n",
    "    test_data[col] = test_data[col].fillna(mode)\n",
    "\n",
    "# Label encoding: dùng mapping từ train, gán -1 cho giá trị không có trong train\n",
    "for col in categorical_cols:\n",
    "    test_data[col] = test_data[col].map(mappings[col])\n",
    "    test_data[col] = test_data[col].fillna(-1)  # gán -1 cho giá trị chưa từng thấy\n",
    "\n",
    "# Chuẩn hóa categorical: dùng mean/std từ train\n",
    "for col in categorical_cols:\n",
    "    mean = categorical_means[col]\n",
    "    std = categorical_stds[col] if categorical_stds[col] != 0 else 1e-8\n",
    "    test_data[col] = (test_data[col] - mean) / std\n",
    "\n",
    "# Bước 3: Xử lý các cột numeric\n",
    "numeric_cols = ['Year', 'Kilometer', 'Engine', 'Max Power', 'Max Torque', \n",
    "                'Length', 'Width', 'Height', 'Seating Capacity', 'Fuel Tank Capacity']\n",
    "\n",
    "# Điền NaN bằng trung bình từ train\n",
    "for col in numeric_cols:\n",
    "    mean = train_data_means[col]\n",
    "    test_data[col] = test_data[col].fillna(mean)\n",
    "\n",
    "# Chuẩn hóa numeric: dùng mean/std từ train\n",
    "for col in numeric_cols:\n",
    "    mean = train_data_means[col]\n",
    "    std = train_data_stds[col] if train_data_stds[col] != 0 else 1e-8\n",
    "    test_data[col] = (test_data[col] - mean) / std\n",
    "\n",
    "# Bước 4: Tách X và Y\n",
    "y_test = test_data['Price']\n",
    "X_test = test_data.drop(columns=['Price'])\n",
    "\n",
    "# In thông tin để kiểm tra\n",
    "print(\"Sau khi tiền xử lý dữ liệu cho test_data:\")\n",
    "print(\"Test.shape = \", X_test.shape)\n",
    "print(\"Các cột trong X_test:\", list(X_test.columns))\n",
    "print(\"\\n5 dòng đầu trong X_test đã xử lý:\\n\")\n",
    "\n",
    "pd.set_option('display.max_columns', None)\n",
    "pd.set_option('display.width', 200)\n",
    "print(X_test.head())\n"
   ]
  },
  {
   "cell_type": "code",
   "execution_count": 115,
   "id": "3aa0d3b0",
   "metadata": {},
   "outputs": [
    {
     "name": "stdout",
     "output_type": "stream",
     "text": [
      "Columns in X_test: ['Make', 'Year', 'Kilometer', 'Fuel Type', 'Transmission', 'Owner', 'Seller Type', 'Engine', 'Max Power', 'Drivetrain', 'Seating Capacity', 'Fuel Tank Capacity']\n",
      "5 dòng dữ liệu đầu:\n",
      "        Make      Year  Kilometer  Fuel Type  Transmission     Owner  Seller Type    Engine  Max Power  Drivetrain  Seating Capacity  Fuel Tank Capacity\n",
      "0 -1.019811 -0.111554   0.321759  -0.902065     -1.089406  1.636735     0.186028  0.729731   0.421614    1.819817          2.073393            1.762669\n",
      "1  1.639775  1.351757  -0.829494   1.088752     -1.089406 -0.492233     0.186028 -0.368184  -0.414471   -0.048226         -0.381535           -0.282456\n",
      "2  0.430872 -0.696878  -0.190075   1.088752      0.917234 -0.492233     0.186028 -1.361677  -1.265757   -0.048226         -0.381535           -1.113289\n",
      "3 -0.898921 -0.696878   0.479271  -0.902065      0.917234 -0.492233     0.186028 -0.314482  -0.475277   -0.048226         -0.381535           -0.793738\n",
      "4 -0.778030  0.473770   0.243003   1.088752      0.917234 -0.492233     0.186028 -1.334826  -1.144145   -0.048226         -0.381535           -1.305019\n"
     ]
    }
   ],
   "source": [
    "X_test_official = X_test[cols]\n",
    "print(\"Columns in X_test:\", list(X_test_official.columns))\n",
    "print(\"5 dòng dữ liệu đầu:\\n\", X_test_official.head())"
   ]
  },
  {
   "cell_type": "code",
   "execution_count": 116,
   "id": "a46e68e7",
   "metadata": {},
   "outputs": [],
   "source": [
    "# Tính mean và std của y_train\n",
    "y_test_mean = y_train.mean()\n",
    "y_test_std = y_train.std()\n",
    "\n",
    "# Chuẩn hóa y_train\n",
    "y_test_scaled = (y_test - y_test_mean) / y_test_std"
   ]
  },
  {
   "cell_type": "code",
   "execution_count": 117,
   "id": "1c88df30",
   "metadata": {},
   "outputs": [
    {
     "name": "stdout",
     "output_type": "stream",
     "text": [
      "Công thức 1:\n",
      "-> MSE (chuẩn hóa): 0.3352\n",
      "-> MSE (đơn vị gốc): 1941728132218.14\n",
      "----------------------------------------\n",
      "Công thức 2:\n",
      "-> MSE (chuẩn hóa): 0.2361\n",
      "-> MSE (đơn vị gốc): 1367593159034.62\n",
      "----------------------------------------\n",
      "Công thức 3:\n",
      "-> MSE (chuẩn hóa): 0.2240\n",
      "-> MSE (đơn vị gốc): 1297315431794.83\n",
      "----------------------------------------\n",
      "Công thức 4:\n",
      "-> MSE (chuẩn hóa): 0.3359\n",
      "-> MSE (đơn vị gốc): 1945843356684.98\n",
      "----------------------------------------\n",
      "\n",
      "Công thức tốt nhất trên tập test là: Công thức 3\n"
     ]
    }
   ],
   "source": [
    "mse_test_list = []\n",
    "mse_test_scaled_list = []\n",
    "\n",
    "for i, (weights, formula) in enumerate(zip(\n",
    "    [weights1, weights2, weights3, weights4],\n",
    "    [formula_1, formula_2, formula_3, formula_4_ridge]\n",
    "), 1):\n",
    "    # Biến đổi X_test theo công thức\n",
    "    X_test_transformed = formula(X_test_official.values)\n",
    "    \n",
    "    # Dự đoán chuẩn hóa\n",
    "    y_pred_scaled = np.dot(X_test_transformed, weights)\n",
    "    \n",
    "    # Dự đoán đơn vị gốc\n",
    "    y_pred_original = y_pred_scaled * y_std + y_mean\n",
    "\n",
    "    # MSE chuẩn hóa (so với y_test_scaled)\n",
    "    mse_scaled = mean_squared_error(y_test_scaled, y_pred_scaled)\n",
    "    mse_test_scaled_list.append(mse_scaled)\n",
    "\n",
    "    # MSE đơn vị gốc (so với y_test thật)\n",
    "    mse_original = mean_squared_error(y_test, y_pred_original)\n",
    "    mse_test_list.append(mse_original)\n",
    "\n",
    "    # In kết quả\n",
    "    print(f\"Công thức {i}:\")\n",
    "    print(f\"-> MSE (chuẩn hóa): {mse_scaled:.4f}\")\n",
    "    print(f\"-> MSE (đơn vị gốc): {mse_original:.2f}\")\n",
    "    print(\"-\" * 40)\n",
    "\n",
    "# Tìm công thức tốt nhất (dựa trên MSE gốc)\n",
    "best_index = mse_test_list.index(min(mse_test_list)) + 1\n",
    "print(f\"\\nCông thức tốt nhất trên tập test là: Công thức {best_index}\")"
   ]
  },
  {
   "cell_type": "markdown",
   "id": "3befc9a3",
   "metadata": {},
   "source": [
    "### 3.3 Thêm nhiễu"
   ]
  },
  {
   "cell_type": "code",
   "execution_count": 118,
   "id": "25c1fe05",
   "metadata": {},
   "outputs": [
    {
     "name": "stdout",
     "output_type": "stream",
     "text": [
      "ε = 0.5 → Công thức 3:\n",
      "MSE (gốc)       = 4625540330386.87\n",
      "MSE (chuẩn hoá) = 0.80\n",
      "Weights         = [-0.00223871  0.01710554 -0.01646775 -0.02978995 -0.03550664  0.00394486\n",
      " -0.00036999  0.0381037   0.05127191 -0.03107163 -0.0144727   0.03384519\n",
      "  0.01486683  0.0006378   0.00831375  0.02148196  0.00703207  0.01937249\n",
      " -0.00093732  0.01571684  0.00214242 -0.00347676  0.00218614 -0.00163598\n",
      " -0.00764447 -0.0059442   0.00021846 -0.011049   -0.00073792 -0.00031964\n",
      "  0.0012908   0.00223868  0.00242709 -0.01213481]\n",
      "\n",
      "Công thức 2:\n",
      "MSE: 4770591347749.63\n",
      "MSE (chuẩn hoá): 0.82\n",
      "Weights: [ 9.45228444e-03  3.03593633e-02 -1.49032000e-03 -1.31316124e-02\n",
      " -8.46308492e-04  2.96896059e-05 -3.62465425e-02  4.41018756e-03\n",
      " -1.59454672e-03  5.61250595e-02  7.68909822e-04  7.34315374e-02\n",
      "  2.97425984e-03 -2.32245506e-02  4.81401284e-03  5.39832990e-02\n",
      "  1.77323319e-03]\n",
      "\n",
      "ε = 1 → Công thức 3:\n",
      "MSE (gốc)       = 3352055645629.84\n",
      "MSE (chuẩn hoá) = 0.58\n",
      "Weights         = [-0.02358488  0.04951762 -0.03521314 -0.04506103 -0.08249422 -0.00802609\n",
      " -0.008613    0.03933532  0.08868311 -0.02496223 -0.03738393  0.07044917\n",
      "  0.02593274  0.01430448 -0.00572571  0.04362207  0.01437309  0.03306524\n",
      "  0.00111118  0.03387958  0.03739346  0.00071229  0.01353943  0.02136299\n",
      " -0.02489531 -0.03278641 -0.01710184 -0.02245827 -0.00037225  0.00041932\n",
      "  0.00843129  0.01627446  0.00499984 -0.01141047]\n",
      "\n",
      "Công thức 2:\n",
      "MSE: 3620606626729.65\n",
      "MSE (chuẩn hoá): 0.63\n",
      "Weights: [-0.00439412  0.06888938 -0.00825374 -0.03092938  0.00038949 -0.01299516\n",
      " -0.08963575 -0.00892335 -0.01201497  0.06809444  0.01590929  0.1360563\n",
      "  0.02288924 -0.02065145 -0.0067149   0.10221354  0.00208101]\n",
      "\n",
      "ε = 5 → Công thức 3:\n",
      "MSE (gốc)       = 2130403358677.11\n",
      "MSE (chuẩn hoá) = 0.37\n",
      "Weights         = [-3.38448038e-02  8.91516116e-02 -5.03507485e-02 -5.02300956e-02\n",
      " -9.24959302e-02  7.19054238e-04 -1.03525639e-02  6.43550073e-02\n",
      "  1.12092333e-01 -2.91131471e-02 -4.04796090e-02  9.03539109e-02\n",
      "  5.53068078e-02  3.88008631e-02  1.41249117e-02  6.18622371e-02\n",
      "  3.52418602e-02  4.98743019e-02 -2.89783050e-04  1.84582243e-02\n",
      "  4.50102251e-02 -1.60634315e-02  2.07265717e-02  1.56824955e-02\n",
      " -2.41752738e-02 -3.74913532e-02 -1.54531910e-02 -2.82748506e-02\n",
      " -2.14656572e-02 -9.10681288e-06 -1.71363431e-02  7.09803671e-02\n",
      "  4.56447276e-02 -4.61044453e-03]\n",
      "\n",
      "Công thức 2:\n",
      "MSE: 2275274448413.16\n",
      "MSE (chuẩn hoá): 0.39\n",
      "Weights: [-0.01281021  0.11249979 -0.03981253 -0.05372981  0.00129132 -0.03966883\n",
      " -0.10833373 -0.00171281 -0.01497988  0.09044372 -0.0046393   0.14052708\n",
      "  0.09193134 -0.01755184 -0.01771705  0.11862359  0.05310059]\n",
      "\n",
      "ε = 20 → Công thức 3:\n",
      "MSE (gốc)       = 2016777923112.36\n",
      "MSE (chuẩn hoá) = 0.35\n",
      "Weights         = [-0.03141196  0.09336154 -0.04714526 -0.04877591 -0.09420098 -0.00252303\n",
      " -0.01119407  0.06378712  0.11371641 -0.03127759 -0.04118542  0.09080729\n",
      "  0.06194957  0.04621627  0.01501121  0.0649405   0.03250953  0.04962187\n",
      " -0.00312109  0.02070664  0.04717308 -0.01495704  0.02024503  0.00827322\n",
      " -0.02280679 -0.04087998 -0.01471744 -0.03265882 -0.01631044 -0.00026516\n",
      " -0.02724807  0.08570972  0.04325991 -0.00204507]\n",
      "\n",
      "Công thức 2:\n",
      "MSE: 2194699732199.20\n",
      "MSE (chuẩn hoá): 0.38\n",
      "Weights: [-0.01090534  0.11747009 -0.03423413 -0.05200857  0.0013065  -0.03913422\n",
      " -0.10989244 -0.00565339 -0.01468692  0.08946027 -0.00984342  0.14079523\n",
      "  0.10580607 -0.0216006  -0.02002534  0.1179644   0.05315972]\n",
      "\n"
     ]
    }
   ],
   "source": [
    "# Lưu mean và std để chuẩn hóa và phục hồi lại đơn vị gốc\n",
    "y_mean = y_train.mean()\n",
    "y_std = y_train.std()\n",
    "\n",
    "# Chuẩn hóa y_train\n",
    "y_train_scaled = (y_train - y_mean) / y_std\n",
    "\n",
    "# Hàm thêm nhiễu Laplace vào dữ liệu X (chuẩn hóa)\n",
    "def add_laplace_noise(X, epsilon=1.0, sensitivity=1.0):\n",
    "    scale = sensitivity / epsilon\n",
    "    noise = np.random.laplace(loc=0, scale=scale, size=X.shape)\n",
    "    return X + noise\n",
    "\n",
    "# Các giá trị epsilon cần thử\n",
    "epsilon_values = [0.5, 1, 5, 20]   # tương ứng với các mức: <1, 1-10, >10\n",
    "\n",
    "# Lưu kết quả\n",
    "results = []\n",
    "\n",
    "for eps in epsilon_values:\n",
    "    # Thêm nhiễu vào X_train\n",
    "    X_train_dp = add_laplace_noise(X_train_official, epsilon=eps)\n",
    "\n",
    "    # Dùng mô hình SGD Linear Regression với dữ liệu đã bị nhiễu\n",
    "    weights3, mse3, mse_scaled3, val_mse3, val_mse_scaled3 = sgd_linear_regression(\n",
    "        X_train_dp.values,\n",
    "        y_train_scaled.values,\n",
    "        formula_3,\n",
    "        lambda_l2=0.0,\n",
    "        X_val=X_val_official.values,\n",
    "        y_val=y_val_scaled.values\n",
    "    )\n",
    "\n",
    "\n",
    "    results.append((eps, mse_scaled3, mse3))\n",
    "\n",
    "    print(f\"ε = {eps} → Công thức 3:\")\n",
    "    print(f\"MSE (gốc)       = {mse3:.2f}\")\n",
    "    print(f\"MSE (chuẩn hoá) = {mse_scaled3:.2f}\")\n",
    "    print(f\"Weights         = {weights3}\\n\")\n",
    "\n",
    "    weights2, mse2, mse_scaled2, val_mse2, val_mse_scaled2 = sgd_linear_regression(\n",
    "        X_train_dp.values,\n",
    "        y_train_scaled.values,\n",
    "        formula_2,\n",
    "        lambda_l2=0.0,\n",
    "        X_val=X_val_official.values,\n",
    "        y_val=y_val_scaled.values\n",
    "    )\n",
    "    print(f\"Công thức 2:\")\n",
    "    print(f\"MSE: {mse2:.2f}\")\n",
    "    print(f\"MSE (chuẩn hoá): {mse_scaled2:.2f}\")\n",
    "    print(f\"Weights: {weights2}\\n\")"
   ]
  },
  {
   "cell_type": "code",
   "execution_count": 119,
   "id": "8c0efefd",
   "metadata": {},
   "outputs": [
    {
     "name": "stdout",
     "output_type": "stream",
     "text": [
      "Tổng epsilon sau 5 lần huấn luyện với ε=0.5 là: 2.5\n"
     ]
    }
   ],
   "source": [
    "### PRIVACY ACCOUNTANT\n",
    "# Tính ε tích lũy nếu huấn luyện mô hình nhiều lần (basic composition)\n",
    "def compute_total_epsilon(epsilon_per_iter, n_iter):\n",
    "    return epsilon_per_iter * n_iter\n",
    "\n",
    "# Ví dụ: chạy 5 lần với epsilon = 0.5\n",
    "total_eps = compute_total_epsilon(0.5, 5)\n",
    "print(f\"Tổng epsilon sau 5 lần huấn luyện với ε=0.5 là: {total_eps}\")"
   ]
  },
  {
   "cell_type": "code",
   "execution_count": 120,
   "id": "bc5f55d9",
   "metadata": {},
   "outputs": [
    {
     "name": "stdout",
     "output_type": "stream",
     "text": [
      "Với ε = 0.5:  MSE (chuẩn hóa) = 0.7985, MSE (gốc) = 4625540330386.87 → ε nhỏ → riêng tư cao hơn, nhưng độ chính xác thấp hơn\n",
      "Với ε = 1:  MSE (chuẩn hóa) = 0.5787, MSE (gốc) = 3352055645629.84 → ε nhỏ → riêng tư cao hơn, nhưng độ chính xác thấp hơn\n",
      "Với ε = 5:  MSE (chuẩn hóa) = 0.3678, MSE (gốc) = 2130403358677.11 → ε nhỏ → riêng tư cao hơn, nhưng độ chính xác thấp hơn\n",
      "Với ε = 20:  MSE (chuẩn hóa) = 0.3482, MSE (gốc) = 2016777923112.36 → ε nhỏ → riêng tư cao hơn, nhưng độ chính xác thấp hơn\n"
     ]
    }
   ],
   "source": [
    "for eps, mse_scaled, mse_real in results:\n",
    "    print(f\"Với ε = {eps}:  MSE (chuẩn hóa) = {mse_scaled:.4f}, MSE (gốc) = {mse_real:.2f} → ε nhỏ → riêng tư cao hơn, nhưng độ chính xác thấp hơn\")"
   ]
  },
  {
   "cell_type": "code",
   "execution_count": 121,
   "id": "7637ed91",
   "metadata": {},
   "outputs": [
    {
     "data": {
      "image/png": "[encoded data removed]",
      "text/plain": [
       "<Figure size 640x480 with 1 Axes>"
      ]
     },
     "metadata": {},
     "output_type": "display_data"
    }
   ],
   "source": [
    "### VẼ BIỂU ĐỒ\n",
    "plt.plot([r[0] for r in results], [r[2] for r in results], marker='o')  # dùng MSE gốc để vẽ\n",
    "plt.xlabel('Epsilon')\n",
    "plt.ylabel('MSE (gốc)')\n",
    "plt.title('Độ chính xác mô hình theo mức độ riêng tư (DP)')\n",
    "plt.grid(True)\n",
    "plt.show()"
   ]
  }
 ],
 "metadata": {
  "kernelspec": {
   "display_name": "Python 3",
   "language": "python",
   "name": "python3"
  },
  "language_info": {
   "codemirror_mode": {
    "name": "ipython",
    "version": 3
   },
   "file_extension": ".py",
   "mimetype": "text/x-python",
   "name": "python",
   "nbconvert_exporter": "python",
   "pygments_lexer": "ipython3",
   "version": "3.12.7"
  }
 },
 "nbformat": 4,
 "nbformat_minor": 5
}
