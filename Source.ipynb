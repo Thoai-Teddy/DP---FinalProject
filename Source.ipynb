{
 "cells": [
  {
   "cell_type": "markdown",
   "id": "c0fc206c",
   "metadata": {},
   "source": [
    "# ĐỒ ÁN CUỐI KỲ - PHÂN TÍCH DỮ LIỆU BẢO TOÀN TÍNH RIÊNG TƯ"
   ]
  },
  {
   "cell_type": "markdown",
   "id": "fcce2c43",
   "metadata": {},
   "source": [
    "## THÀNH VIÊN NHÓM:\n",
    "\n",
    "- 22120304 - Nguyễn Thị Kim Quý\n",
    "\n",
    "- 22120338 - Đỗ Hạnh Thảo\n",
    "\n",
    "- 22120352 - Phạm Nguyễn Quang Thoại"
   ]
  },
  {
   "cell_type": "code",
   "execution_count": 39,
   "id": "3dd2509f",
   "metadata": {},
   "outputs": [],
   "source": [
    "import pandas as pd\n",
    "import numpy as np\n",
    "import re\n",
    "import matplotlib.pyplot as plt"
   ]
  },
  {
   "cell_type": "markdown",
   "id": "128bdee9",
   "metadata": {},
   "source": [
    "### 1. Đọc file"
   ]
  },
  {
   "cell_type": "code",
   "execution_count": 40,
   "id": "f61751d3",
   "metadata": {},
   "outputs": [
    {
     "name": "stdout",
     "output_type": "stream",
     "text": [
      "Số dòng trong train.csv 1317\n",
      "\n",
      "Số cột: 20\n",
      "Tên các cột: ['Make', 'Model', 'Price', 'Year', 'Kilometer', 'Fuel Type', 'Transmission', 'Location', 'Color', 'Owner', 'Seller Type', 'Engine', 'Max Power', 'Max Torque', 'Drivetrain', 'Length', 'Width', 'Height', 'Seating Capacity', 'Fuel Tank Capacity']\n",
      "\n",
      " 5 dòng đầu trong train.csv:\n",
      "\n",
      "        Make                                    Model    Price  Year  Kilometer Fuel Type Transmission   Location   Color   Owner Seller Type   Engine           Max Power         Max Torque  \\\n",
      "0  Ssangyong                               Rexton RX7   975000  2013      72000    Diesel    Automatic  Bangalore  Silver   First  Individual  2696 cc  184 bhp @ 4000 rpm  402 Nm @ 3000 rpm   \n",
      "1    Hyundai  Creta SX (O) 1.5 Petrol CVT [2020-2022]  1748999  2022       2670    Petrol    Automatic    Kolkata   White   First  Individual  1497 cc  113 bhp @ 6300 rpm  144 Nm @ 4500 rpm   \n",
      "2       Audi                     A4 2.0 TDI (143 bhp)  1150000  2012      40031    Diesel    Automatic       Pune    Blue  Second  Individual      NaN                 NaN                NaN   \n",
      "3    Hyundai        Grand i10 Magna AT 1.2 Kappa VTVT   549000  2018      53000    Petrol    Automatic  Hyderabad   White  Second  Individual  1197 cc   81 bhp @ 6000 rpm  114 Nm @ 4000 rpm   \n",
      "4    Hyundai                       Elite i20 Asta 1.2   675000  2017      48591    Petrol       Manual  Hyderabad   White   First  Individual  1197 cc   82 bhp @ 6000 rpm  115 Nm @ 4000 rpm   \n",
      "\n",
      "  Drivetrain  Length   Width  Height  Seating Capacity  Fuel Tank Capacity  \n",
      "0        AWD  4755.0  1900.0  1785.0               7.0                78.0  \n",
      "1        FWD  4300.0  1790.0  1635.0               5.0                50.0  \n",
      "2        NaN     NaN     NaN     NaN               NaN                 NaN  \n",
      "3        FWD  3765.0  1660.0  1520.0               5.0                43.0  \n",
      "4        FWD  3985.0  1734.0  1505.0               5.0                45.0  \n"
     ]
    }
   ],
   "source": [
    "train_data = pd.read_csv('train.csv')\n",
    "\n",
    "print(\"Số dòng trong train.csv\", len(train_data))\n",
    "print(f\"\\nSố cột: {len(train_data.columns)}\")\n",
    "print(\"Tên các cột:\", list(train_data.columns))\n",
    "print(\"\\n 5 dòng đầu trong train.csv:\\n\")\n",
    "print(train_data.head())"
   ]
  },
  {
   "cell_type": "markdown",
   "id": "6f1cdab1",
   "metadata": {},
   "source": [
    "### 2. Tiền xử lý dữ liệu"
   ]
  },
  {
   "cell_type": "code",
   "execution_count": 41,
   "id": "136ce16f",
   "metadata": {},
   "outputs": [],
   "source": [
    "# Hàm trích xuất số từ chuỗi\n",
    "def extract_number(s):\n",
    "    if pd.isna(s):\n",
    "        return np.nan\n",
    "    match = re.search(r'(\\d+)', str(s).replace(',', ''))\n",
    "    if match:\n",
    "        return int(match.group(1))\n",
    "    return np.nan\n",
    "\n",
    "# Hàm mã hóa nhãn\n",
    "def label_encode(series):\n",
    "    uniques = series.dropna().unique()\n",
    "    mapping = {k: v for v, k in enumerate(sorted(uniques))}\n",
    "    encoded = series.map(mapping)\n",
    "    return encoded, mapping"
   ]
  },
  {
   "cell_type": "code",
   "execution_count": 42,
   "id": "e264703f",
   "metadata": {},
   "outputs": [
    {
     "name": "stdout",
     "output_type": "stream",
     "text": [
      "Sau khi tiển xử lý dữ liệu cho train_data: \n",
      "Train.shape =  (1317, 19)\n",
      "Các cột trong X_train: ['Make', 'Model', 'Year', 'Kilometer', 'Fuel Type', 'Transmission', 'Location', 'Color', 'Owner', 'Seller Type', 'Engine', 'Max Power', 'Max Torque', 'Drivetrain', 'Length', 'Width', 'Height', 'Seating Capacity', 'Fuel Tank Capacity']\n",
      "Tổng số cột trong X_train: 19\n",
      "\n",
      " 5 dòng đầu trong X_train đã xử lý:\n",
      "\n",
      "       Make     Model      Year  Kilometer  Fuel Type  Transmission  Location     Color     Owner  Seller Type    Engine  Max Power  Max Torque  Drivetrain    Length     Width    Height  \\\n",
      "0  1.397994  0.572208 -0.989540   0.274506  -0.902065     -1.089406 -1.301665  0.663426 -0.492233     0.186028  1.472613   0.816855    1.073272   -1.916269  1.042822  0.950313  1.437051   \n",
      "1 -0.778030 -0.749163  1.644419  -0.817523   1.088752     -1.089406  0.194324  0.848421 -0.492233     0.186028 -0.315973  -0.262455   -0.726814   -0.048226  0.032203  0.151263  0.324015   \n",
      "2 -1.624262 -1.573426 -1.282202  -0.229044  -0.902065     -1.089406  1.302465 -1.556515  1.636735     0.186028  0.000000   0.000000    0.000000   -0.048226  0.000000  0.000000  0.000000   \n",
      "3 -0.778030 -0.026870  0.473770  -0.024767   1.088752     -1.089406 -0.304339  0.848421  1.636735     0.186028 -0.763493  -0.748905   -0.936126   -0.048226 -1.156107 -0.793069 -0.529312   \n",
      "4 -0.778030 -0.460246  0.181108  -0.094214   1.088752      0.917234 -0.304339  0.848421 -0.492233     0.186028 -0.763493  -0.733703   -0.929149   -0.048226 -0.667456 -0.255526 -0.640616   \n",
      "\n",
      "   Seating Capacity  Fuel Tank Capacity  \n",
      "0          2.073393            1.634849  \n",
      "1         -0.381535           -0.154636  \n",
      "2          0.000000            0.000000  \n",
      "3         -0.381535           -0.602007  \n",
      "4         -0.381535           -0.474187  \n"
     ]
    }
   ],
   "source": [
    "# Bước 1: Trích số từ các cột chuỗi số\n",
    "for col in ['Engine', 'Max Power', 'Max Torque']:\n",
    "    train_data[col] = train_data[col].apply(extract_number)\n",
    "    \n",
    "# Bước 2: Label encoding thủ công cho các cột phân loại\n",
    "categorical_cols = ['Make', 'Model', 'Fuel Type', 'Transmission', 'Location', \n",
    "                    'Color', 'Owner', 'Seller Type', 'Drivetrain']\n",
    "mappings = {}\n",
    "# Lưu mode để xử lý NaN trong test\n",
    "categorical_modes = {}\n",
    "categorical_means = {}\n",
    "categorical_stds = {}\n",
    "train_data_means = {}\n",
    "train_data_stds = {}\n",
    "\n",
    "# print(\"Missing before fill:\")\n",
    "# print(train_data[categorical_cols].isna().sum())    \n",
    "\n",
    "# Với categorical NaN -> Điền thiếu bằng mode (giá trị xuất hiện nhiều nhất)\n",
    "for col in categorical_cols:\n",
    "    mode = train_data[col].mode()[0]  # lấy giá trị xuất hiện nhiều nhất\n",
    "    train_data[col] = train_data[col].fillna(mode)\n",
    "\n",
    "# In ra giá trị được fill\n",
    "for col in categorical_cols:\n",
    "    mode = train_data[col].mode()[0]\n",
    "    categorical_modes[col] = mode\n",
    "    # print(f\"Mode of {col}: {mode}\")\n",
    "\n",
    "# Label encoding\n",
    "for col in categorical_cols:\n",
    "    train_data[col], mappings[col] = label_encode(train_data[col])\n",
    "\n",
    "# Chuẩn hóa dữ liệu categorical\n",
    "for col in categorical_cols:\n",
    "    mean = train_data[col].mean()\n",
    "    std = train_data[col].std()\n",
    "    if std == 0:\n",
    "        std = 1e-8  # tránh chia 0\n",
    "    categorical_means[col] = mean\n",
    "    categorical_stds[col] = std\n",
    "    train_data[col] = (train_data[col] - mean) / std\n",
    "    \n",
    "# Với numeric NaN -> trung bình cột train\n",
    "numeric_cols = ['Year', 'Kilometer', 'Engine', 'Max Power', 'Max Torque', \n",
    "                'Length', 'Width', 'Height', 'Seating Capacity', 'Fuel Tank Capacity']\n",
    "\n",
    "for col in numeric_cols:\n",
    "    mean = train_data[col].mean()\n",
    "    std = train_data[col].std()\n",
    "    if std == 0:\n",
    "        std = 1e-8\n",
    "    train_data_means[col] = mean\n",
    "    train_data_stds[col] = std\n",
    "    train_data[col] = train_data[col].fillna(mean)\n",
    "    train_data[col] = (train_data[col] - mean) / std\n",
    "\n",
    "\n",
    "# Bước 5: Tách X và Y\n",
    "y_train = train_data['Price']\n",
    "X_train = train_data.drop(columns=['Price'])\n",
    "\n",
    "print(\"Sau khi tiển xử lý dữ liệu cho train_data: \")\n",
    "\n",
    "print(\"Train.shape = \", X_train.shape)\n",
    "print(\"Các cột trong X_train:\", list(X_train.columns))\n",
    "print(\"Tổng số cột trong X_train:\", len(X_train.columns))\n",
    "print(\"\\n 5 dòng đầu trong X_train đã xử lý:\\n\")\n",
    "pd.set_option('display.max_columns', None)  # Hiện tất cả các cột\n",
    "pd.set_option('display.width', 200)         # Tăng chiều rộng hiển thị\n",
    "print(X_train.head())"
   ]
  },
  {
   "cell_type": "markdown",
   "id": "396b9613",
   "metadata": {},
   "source": [
    "### 3.1 - 3.2: Xây dựng mô hình và huấn luyện"
   ]
  },
  {
   "cell_type": "markdown",
   "id": "494ddf5d",
   "metadata": {},
   "source": [
    "Mô hình: Linear Regression\n",
    "\n",
    "Thuật toán tối ưu: Stochastic Gradient Descent"
   ]
  },
  {
   "cell_type": "markdown",
   "id": "3da58a65",
   "metadata": {},
   "source": [
    "**Các cột dữ liệu được chọn**:\n",
    "\n",
    "- Year: Năm sản xuất ảnh hưởng đến độ mới, giá trị còn lại.\n",
    "\n",
    "- Kilometer: Số km đã đi là chỉ số hao mòn – ảnh hưởng trực tiếp đến giá.\n",
    "\n",
    "- Fuel Type: Xe chạy xăng, dầu hay điện có mức giá khác nhau.\n",
    "\n",
    "- Transmission: Xe số sàn thường rẻ hơn xe số tự động.\n",
    "\n",
    "- Engine: Dung tích/mã lực động cơ ảnh hưởng đến giá xe.\n",
    "\n",
    "- Max Power: Công suất phản ánh hiệu năng, thường đi kèm giá.\n",
    "\n",
    "- Seating Capacity: Xe 4 chỗ, 7 chỗ, 9 chỗ có giá khác nhau.\n",
    "\n",
    "- Fuel Tank Capacity: Phụ nhưng vẫn phản ánh phần nào kích thước/loại xe."
   ]
  },
  {
   "cell_type": "markdown",
   "id": "24e86d01",
   "metadata": {},
   "source": [
    "**Các công thức hồi quy sẽ sử dụng**:\n",
    "\n",
    "- **y = a1x1 + a2x2 + a3x3 + a4x4**: Đây là mô hình hồi quy tuyến tính đơn giản, chuẩn, rất ổn cho baseline.\n",
    "\n",
    "- **y = a1x1^2 + a2x2 + a3x3^2 + a4x4**: Đây là kỹ thuật polynomial features, giúp mô hình có thể nắm bắt được quan hệ phi tuyến.\n",
    "\n",
    "- **y = a1(x1 + x2) + a3x3^ + a4x4**: Có các tương tác tiềm năng sau:\n",
    "\n",
    "    - Year + Kilometer: Xe mới + số kilomet đã chạy ít -> giá cao\n",
    "\n",
    "    - Make và Model: kết hợp thương hiệu + dòng xe đặc biệt -> đắt tiền.\n",
    "\n",
    "    - Fuel Type và Engine / Max Power / Max Torque: Xe điện có thể có cấu hình động cơ và công suất khác biệt với xe xăng/dầu, tương tác giữa loại nhiên liệu và hiệu năng động cơ có thể quan trọng.\n",
    "\n",
    "    - Seating Capacity và Fuel Tank Capacity: Xe nhiều chỗ thường có bình nhiên liệu lớn hơn, tương tác giúp phân biệt phân khúc xe.\n",
    "    \n",
    "    - Transmission và DriveTrain: Ví dụ xe số tự động + hệ dẫn động 4 bánh có thể giá cao hơn số sàn + dẫn động cầu trước.\n",
    "\n",
    "- **y = a1x1x2 + a3x3^2**:\n",
    "Cũng có các tương tác như trên\n",
    "\n",
    "- **Regularized Linear Regression: Ridge Regression (L2 Regularization)**: λ∑(ai^2): Tránh overfitting"
   ]
  },
  {
   "cell_type": "code",
   "execution_count": 43,
   "id": "ae2831ac",
   "metadata": {},
   "outputs": [
    {
     "name": "stdout",
     "output_type": "stream",
     "text": [
      "Columns in X_train: ['Year', 'Kilometer', 'Fuel Type', 'Transmission', 'Engine', 'Max Power', 'Seating Capacity', 'Fuel Tank Capacity']\n",
      "5 dòng dữ liệu đầu:\n",
      "        Year  Kilometer  Fuel Type  Transmission    Engine  Max Power  Seating Capacity  Fuel Tank Capacity\n",
      "0 -0.989540   0.274506  -0.902065     -1.089406  1.472613   0.816855          2.073393            1.634849\n",
      "1  1.644419  -0.817523   1.088752     -1.089406 -0.315973  -0.262455         -0.381535           -0.154636\n",
      "2 -1.282202  -0.229044  -0.902065     -1.089406  0.000000   0.000000          0.000000            0.000000\n",
      "3  0.473770  -0.024767   1.088752     -1.089406 -0.763493  -0.748905         -0.381535           -0.602007\n",
      "4  0.181108  -0.094214   1.088752      0.917234 -0.763493  -0.733703         -0.381535           -0.474187\n"
     ]
    }
   ],
   "source": [
    "cols = ['Year', 'Kilometer', 'Fuel Type', 'Transmission', 'Engine', 'Max Power', 'Seating Capacity', 'Fuel Tank Capacity']\n",
    "X_train_official = X_train[cols]\n",
    "\n",
    "print(\"Columns in X_train:\", list(X_train_official.columns))\n",
    "print(\"5 dòng dữ liệu đầu:\\n\", X_train_official.head())"
   ]
  },
  {
   "cell_type": "code",
   "execution_count": 44,
   "id": "db79cfbd",
   "metadata": {},
   "outputs": [],
   "source": [
    "# Tính mean và std của y_train\n",
    "y_mean = y_train.mean()\n",
    "y_std = y_train.std()\n",
    "\n",
    "# Chuẩn hóa y_train\n",
    "y_train_scaled = (y_train - y_mean) / y_std"
   ]
  },
  {
   "cell_type": "code",
   "execution_count": 45,
   "id": "889d36b2",
   "metadata": {},
   "outputs": [],
   "source": [
    "def mean_squared_error(y_true, y_pred):\n",
    "    return np.mean((y_true - y_pred) ** 2)\n",
    "\n",
    "def sgd_linear_regression(X, y, transform_fn, lr=1e-6, max_epoch=500, lambda_l2=0.0):\n",
    "    n_samples = X.shape[0]\n",
    "    X_transformed = transform_fn(X)\n",
    "    n_features = X_transformed.shape[1]\n",
    "    weights = np.zeros(n_features)\n",
    "\n",
    "    for epoch in range(max_epoch):\n",
    "        indices = np.arange(n_samples)\n",
    "        np.random.shuffle(indices)\n",
    "        for i in indices:\n",
    "            xi = X_transformed[i]\n",
    "            yi = y[i]\n",
    "            y_pred = np.dot(weights, xi)\n",
    "            error = y_pred - yi\n",
    "            gradient = error * xi + 2 * lambda_l2 * weights\n",
    "\n",
    "            if np.any(np.isnan(gradient)) or np.any(np.isinf(gradient)):\n",
    "                print(f\"Warning: gradient NaN/Inf at epoch {epoch}, sample {i}\")\n",
    "                continue\n",
    "\n",
    "            weights_new = weights - lr * gradient\n",
    "            if np.any(np.isnan(weights_new)) or np.any(np.isinf(weights_new)):\n",
    "                print(f\"Warning: weights overflow at epoch {epoch}, sample {i}\")\n",
    "                continue\n",
    "\n",
    "            weights = weights_new\n",
    "\n",
    "        if epoch % 10 == 0:\n",
    "            y_pred_scaled = np.dot(X_transformed, weights)\n",
    "            \n",
    "            # Tính MSE trên dữ liệu đã chuẩn hóa\n",
    "            mse_scaled = mean_squared_error(y, y_pred_scaled)\n",
    "            \n",
    "            # Tính MSE trên đơn vị gốc\n",
    "            y_pred_original = y_pred_scaled * y_std + y_mean\n",
    "            y_original = y * y_std + y_mean\n",
    "            mse_original = mean_squared_error(y_original, y_pred_original)\n",
    "            \n",
    "            # print(f\"Epoch {epoch}:\")\n",
    "            # print(f\"   ➤ MSE (chuẩn hóa): {mse_scaled:.4f}\")\n",
    "            # print(f\"   ➤ MSE (đơn vị gốc): {mse_original:.2f}\")\n",
    "\n",
    "    # Sau khi huấn luyện xong\n",
    "    y_pred_scaled = np.dot(X_transformed, weights)\n",
    "    mse_scaled = mean_squared_error(y, y_pred_scaled)\n",
    "    y_pred_original = y_pred_scaled * y_std + y_mean\n",
    "    y_original = y * y_std + y_mean\n",
    "    mse_original = mean_squared_error(y_original, y_pred_original)\n",
    "\n",
    "    return weights, mse_original, mse_scaled\n"
   ]
  },
  {
   "cell_type": "code",
   "execution_count": 46,
   "id": "9a202d40",
   "metadata": {},
   "outputs": [],
   "source": [
    "def formula_1(X):  \n",
    "    return X[:, [0, 1, 2, 3, 4, 5, 6, 7]]\n",
    "\n",
    "def formula_2(X):  \n",
    "    return np.column_stack((X[:,0]**2, X[:,1], X[:,2]**2, X[:,3], X[:,4]**2, X[:,5], X[:,6]**2, X[:,7]))\n",
    "\n",
    "def formula_3(X):  \n",
    "    x1_plus_x2 = X[:,0] + X[:,1]\n",
    "    x3_plus_x5 = X[:,2] + X[:,4]\n",
    "    x7_plus_x8 = X[:,6] + X[:,7]\n",
    "    return np.column_stack((x1_plus_x2, x3_plus_x5, X[:,3]**2, X[:,5], x7_plus_x8))\n",
    "\n",
    "def formula_4(X):  \n",
    "    x1x2 = X[:,0] * X[:,1]\n",
    "    x3x5 = X[:,2] * X[:,4]\n",
    "    x7x8 = X[:,6] * X[:,7]\n",
    "    return np.column_stack((x1x2, x3x5, X[:,3]**2, X[:,5]**2, x7x8))\n",
    "\n",
    "def formula_5_ridge(X):  \n",
    "    return X\n",
    "\n",
    "def run_all_formulas(X_train, y_train):\n",
    "    formulas = [formula_1, formula_2, formula_3, formula_4, formula_5_ridge]\n",
    "    names = [\n",
    "        \"Công thức 1: y = a1x1 + a2x2 + a3x3 + a4x4 + a5x5 + a6x6 + a7x7 + a8x8\",\n",
    "        \"Công thức 2: y = a1x1^2 + a2x2 + a3x3^2 + a4x4 + a5x5^2 + a6x6 + a7x7^2 + a8x8\",\n",
    "        \"Công thức 3: y = a1(x1 + x2) + a3(x3 + x5) + a4x4^2 + a7(x7 + x8)\",\n",
    "        \"Công thức 4: y = a1x1x2 + a3x3x5 + a3x3^2 + a6x6^2 + a7x7x8\",\n",
    "        \"Công thức 5: Ridge Regression (8 cột)\"\n",
    "    ]\n",
    "\n",
    "    for i, formula in enumerate(formulas):\n",
    "        lambda_l2 = 0.1 if i == 4 else 0.0\n",
    "        weights, mse, mse_scaled = sgd_linear_regression(X_train, y_train, formula, lambda_l2=lambda_l2)\n",
    "        print(f\"Công thức: {names[i]}\")\n",
    "        print(f\"MSE: {mse:.2f}\")\n",
    "        print(f\"MSE (chuẩn hoá): {mse_scaled:.2f}\\n\")\n",
    "        print(f\"Weights: {weights}\\n\")"
   ]
  },
  {
   "cell_type": "code",
   "execution_count": 47,
   "id": "0b28024f",
   "metadata": {},
   "outputs": [],
   "source": [
    "# run_all_formulas(X_train_official.values, y_train_scaled.values)"
   ]
  },
  {
   "cell_type": "code",
   "execution_count": 48,
   "id": "8948f516",
   "metadata": {},
   "outputs": [
    {
     "name": "stdout",
     "output_type": "stream",
     "text": [
      "Công thức 1:\n",
      "MSE: 2475479560138.62\n",
      "MSE (chuẩn hoá): 0.43\n",
      "\n",
      "Weights: [ 0.1316825  -0.05766662 -0.01601103 -0.12533614  0.16988198  0.23961595\n",
      " -0.03903926  0.15814643]\n",
      "\n"
     ]
    }
   ],
   "source": [
    "weights1, mse1, mse_scaled1 = sgd_linear_regression(X_train_official.values, y_train_scaled.values, formula_1, lambda_l2=0.0)\n",
    "print(f\"Công thức 1:\")\n",
    "print(f\"MSE: {mse1:.2f}\")\n",
    "print(f\"MSE (chuẩn hoá): {mse_scaled1:.2f}\\n\")\n",
    "print(f\"Weights: {weights1}\\n\")"
   ]
  },
  {
   "cell_type": "code",
   "execution_count": 49,
   "id": "5bf971b8",
   "metadata": {},
   "outputs": [
    {
     "name": "stdout",
     "output_type": "stream",
     "text": [
      "Công thức 2:\n",
      "MSE: 2689736561807.51\n",
      "MSE (chuẩn hoá): 0.46\n",
      "Weights: [-0.01118226 -0.06559969 -0.05004924 -0.14464282  0.08880182  0.2164272\n",
      " -0.00189359  0.17415009]\n",
      "\n"
     ]
    }
   ],
   "source": [
    "weights2, mse2, mse_scaled2 = sgd_linear_regression(X_train_official.values, y_train_scaled.values, formula_2, lambda_l2=0.0)\n",
    "print(f\"Công thức 2:\")\n",
    "print(f\"MSE: {mse2:.2f}\")\n",
    "print(f\"MSE (chuẩn hoá): {mse_scaled2:.2f}\")\n",
    "print(f\"Weights: {weights2}\\n\")"
   ]
  },
  {
   "cell_type": "code",
   "execution_count": 50,
   "id": "564daa09",
   "metadata": {},
   "outputs": [
    {
     "name": "stdout",
     "output_type": "stream",
     "text": [
      "Công thức 3:\n",
      "MSE: 3214611448470.07\n",
      "MSE (chuẩn hoá): 0.55\n",
      "Weights: [0.06622971 0.1324208  0.0244991  0.29151042 0.11704202]\n",
      "\n"
     ]
    }
   ],
   "source": [
    "weights3, mse3, mse_scaled3 = sgd_linear_regression(X_train_official.values, y_train_scaled.values, formula_3, lambda_l2=0.0)\n",
    "print(f\"Công thức 3:\")\n",
    "print(f\"MSE: {mse3:.2f}\")\n",
    "print(f\"MSE (chuẩn hoá): {mse_scaled3:.2f}\")\n",
    "print(f\"Weights: {weights3}\\n\")"
   ]
  },
  {
   "cell_type": "code",
   "execution_count": 51,
   "id": "951c91d9",
   "metadata": {},
   "outputs": [
    {
     "name": "stdout",
     "output_type": "stream",
     "text": [
      "Công thức 4:\n",
      "MSE: 4038245204323.95\n",
      "MSE (chuẩn hoá): 0.70\n",
      "Weights: [-0.01331704 -0.00132614 -0.0335744   0.17686144 -0.04030835]\n",
      "\n"
     ]
    }
   ],
   "source": [
    "weights4, mse4, mse_scaled4 = sgd_linear_regression(X_train_official.values, y_train_scaled.values, formula_4, lambda_l2=0.0)\n",
    "print(f\"Công thức 4:\")\n",
    "print(f\"MSE: {mse4:.2f}\")\n",
    "print(f\"MSE (chuẩn hoá): {mse_scaled4:.2f}\")\n",
    "print(f\"Weights: {weights4}\\n\")"
   ]
  },
  {
   "cell_type": "code",
   "execution_count": 52,
   "id": "62066b6f",
   "metadata": {},
   "outputs": [
    {
     "name": "stdout",
     "output_type": "stream",
     "text": [
      "Công thức 5:\n",
      "MSE: 2530496960415.36\n",
      "MSE (chuẩn hoá): 0.44\n",
      "Weights: [ 0.12461338 -0.05468227 -0.0161874  -0.12029562  0.16251893  0.22816794\n",
      " -0.03609434  0.15139517]\n",
      "\n"
     ]
    }
   ],
   "source": [
    "weights5, mse5, mse_scaled5 = sgd_linear_regression(X_train_official.values, y_train_scaled.values, formula_5_ridge, lambda_l2=0.1)\n",
    "print(f\"Công thức 5:\")\n",
    "print(f\"MSE: {mse5:.2f}\")\n",
    "print(f\"MSE (chuẩn hoá): {mse_scaled5:.2f}\")\n",
    "print(f\"Weights: {weights5}\\n\")"
   ]
  },
  {
   "cell_type": "code",
   "execution_count": 53,
   "id": "d0edf9e7",
   "metadata": {},
   "outputs": [
    {
     "name": "stdout",
     "output_type": "stream",
     "text": [
      "Công thức tốt nhất là công thức 1 với MSE = 2475479560138.62\n",
      " Và MSE (chuẩn hoá): 0.4270518394658288\n"
     ]
    }
   ],
   "source": [
    "mse_list = [mse1, mse2, mse3, mse4, mse5]\n",
    "mse_scaled_list = [mse_scaled1, mse_scaled2, mse_scaled3, mse_scaled4, mse_scaled5]\n",
    "best_formula_index = mse_list.index(min(mse_list)) \n",
    "\n",
    "print(f\"Công thức tốt nhất là công thức {best_formula_index + 1} với MSE = {min(mse_list):.2f}\\n Và MSE (chuẩn hoá): {mse_scaled_list[best_formula_index]}\")\n"
   ]
  },
  {
   "cell_type": "markdown",
   "id": "642e3ba8",
   "metadata": {},
   "source": [
    "### Đọc file test.csv"
   ]
  },
  {
   "cell_type": "code",
   "execution_count": 54,
   "id": "33d8f5d8",
   "metadata": {},
   "outputs": [
    {
     "name": "stdout",
     "output_type": "stream",
     "text": [
      "Số dòng trong test.csv 330\n",
      "\n",
      "Số cột: 20\n",
      "Tên các cột: ['Make', 'Model', 'Price', 'Year', 'Kilometer', 'Fuel Type', 'Transmission', 'Location', 'Color', 'Owner', 'Seller Type', 'Engine', 'Max Power', 'Max Torque', 'Drivetrain', 'Length', 'Width', 'Height', 'Seating Capacity', 'Fuel Tank Capacity']\n",
      "\n",
      " 5 dòng đầu trong test.csv:\n",
      "\n",
      "            Make                           Model    Price  Year  Kilometer Fuel Type Transmission  Location   Color   Owner Seller Type   Engine           Max Power         Max Torque Drivetrain  \\\n",
      "0           Ford      Endeavour Trend 2.2 4x2 AT  2350000  2016      75000    Diesel    Automatic    Mohali   White  Second  Individual  2198 cc  158 bhp @ 3200 rpm  385 Nm @ 1600 rpm        RWD   \n",
      "1         Toyota  Urban Cruiser Premium Grade AT  1050000  2021       1910    Petrol    Automatic  Varanasi   White   First  Individual  1462 cc  103 bhp @ 6000 rpm  138 Nm @ 4400 rpm        FWD   \n",
      "2  Maruti Suzuki                    Alto 800 Lxi   210000  2014      42505    Petrol       Manual    Purnea     Red   First  Individual   796 cc   47 bhp @ 6000 rpm   69 Nm @ 3500 rpm        FWD   \n",
      "3          Honda                  City SV Diesel   550000  2014      85000    Diesel       Manual    Jaipur  Silver   First  Individual  1498 cc   99 bhp @ 3600 rpm  200 Nm @ 1750 rpm        FWD   \n",
      "4        Hyundai                       Eon Era +   290000  2018      70000    Petrol       Manual     Kheda   White   First  Individual   814 cc   55 bhp @ 5500 rpm   75 Nm @ 4000 rpm        FWD   \n",
      "\n",
      "   Length   Width  Height  Seating Capacity  Fuel Tank Capacity  \n",
      "0  4892.0  1860.0  1837.0               7.0                80.0  \n",
      "1  3995.0  1790.0  1640.0               5.0                48.0  \n",
      "2  3395.0  1490.0  1475.0               5.0                35.0  \n",
      "3  4440.0  1695.0  1495.0               5.0                40.0  \n",
      "4  3495.0  1550.0  1500.0               5.0                32.0  \n"
     ]
    }
   ],
   "source": [
    "test_data = pd.read_csv('test.csv')\n",
    "print(\"Số dòng trong test.csv\", len(test_data))\n",
    "print(f\"\\nSố cột: {len(test_data.columns)}\")\n",
    "print(\"Tên các cột:\", list(test_data.columns))\n",
    "print(\"\\n 5 dòng đầu trong test.csv:\\n\")\n",
    "print(test_data.head())"
   ]
  },
  {
   "cell_type": "code",
   "execution_count": 55,
   "id": "f63db3d8",
   "metadata": {},
   "outputs": [
    {
     "name": "stdout",
     "output_type": "stream",
     "text": [
      "Sau khi tiền xử lý dữ liệu cho test_data:\n",
      "Test.shape =  (330, 19)\n",
      "Các cột trong X_test: ['Make', 'Model', 'Year', 'Kilometer', 'Fuel Type', 'Transmission', 'Location', 'Color', 'Owner', 'Seller Type', 'Engine', 'Max Power', 'Max Torque', 'Drivetrain', 'Length', 'Width', 'Height', 'Seating Capacity', 'Fuel Tank Capacity']\n",
      "\n",
      "5 dòng đầu trong X_test đã xử lý:\n",
      "\n",
      "       Make     Model      Year  Kilometer  Fuel Type  Transmission  Location     Color     Owner  Seller Type    Engine  Max Power  Max Torque  Drivetrain    Length     Width    Height  \\\n",
      "0 -1.019811 -1.717884 -0.111554   0.321759  -0.902065     -1.089406  0.637580  0.848421  1.636735     0.186028  0.729731   0.421614    0.954662    1.819817  1.347118  0.659749  1.822903   \n",
      "1  1.639775 -1.717884  1.351757  -0.829494   1.088752     -1.089406  2.133570  0.848421 -0.492233     0.186028 -0.368184  -0.414471   -0.768676   -0.048226 -0.645245  0.151263  0.361116   \n",
      "2  0.430872 -1.475704 -0.696878  -0.190075   1.088752      0.917234  1.357872  0.478431 -0.492233     0.186028 -1.361677  -1.265757   -1.250095   -0.048226 -1.977929 -2.027964 -0.863223   \n",
      "3 -0.898921 -0.982845 -0.696878   0.479271  -0.902065      0.917234 -0.193525  0.663426 -0.492233     0.186028 -0.314482  -0.475277   -0.336098   -0.048226  0.343163 -0.538826 -0.714818   \n",
      "4 -0.778030 -0.354026  0.473770   0.243003   1.088752      0.917234  0.138917  0.848421 -0.492233     0.186028 -1.334826  -1.144145   -1.208232   -0.048226 -1.755815 -1.592119 -0.677717   \n",
      "\n",
      "   Seating Capacity  Fuel Tank Capacity  \n",
      "0          2.073393            1.762669  \n",
      "1         -0.381535           -0.282456  \n",
      "2         -0.381535           -1.113289  \n",
      "3         -0.381535           -0.793738  \n",
      "4         -0.381535           -1.305019  \n"
     ]
    }
   ],
   "source": [
    "# Bước 1: Trích số từ các cột chuỗi số\n",
    "for col in ['Engine', 'Max Power', 'Max Torque']:\n",
    "    test_data[col] = test_data[col].apply(extract_number)\n",
    "\n",
    "# Bước 2: Xử lý các cột phân loại\n",
    "categorical_cols = ['Make', 'Model', 'Fuel Type', 'Transmission', 'Location', \n",
    "                    'Color', 'Owner', 'Seller Type', 'Drivetrain']\n",
    "\n",
    "# Điền thiếu bằng mode đã lưu từ train\n",
    "for col in categorical_cols:\n",
    "    mode = categorical_modes[col]  # dùng mode từ train\n",
    "    test_data[col] = test_data[col].fillna(mode)\n",
    "\n",
    "# Label encoding: dùng mapping từ train, gán -1 cho giá trị không có trong train\n",
    "for col in categorical_cols:\n",
    "    test_data[col] = test_data[col].map(mappings[col])\n",
    "    test_data[col] = test_data[col].fillna(-1)  # gán -1 cho giá trị chưa từng thấy\n",
    "\n",
    "# Chuẩn hóa categorical: dùng mean/std từ train\n",
    "for col in categorical_cols:\n",
    "    mean = categorical_means[col]\n",
    "    std = categorical_stds[col] if categorical_stds[col] != 0 else 1e-8\n",
    "    test_data[col] = (test_data[col] - mean) / std\n",
    "\n",
    "# Bước 3: Xử lý các cột numeric\n",
    "numeric_cols = ['Year', 'Kilometer', 'Engine', 'Max Power', 'Max Torque', \n",
    "                'Length', 'Width', 'Height', 'Seating Capacity', 'Fuel Tank Capacity']\n",
    "\n",
    "# Điền NaN bằng trung bình từ train\n",
    "for col in numeric_cols:\n",
    "    mean = train_data_means[col]\n",
    "    test_data[col] = test_data[col].fillna(mean)\n",
    "\n",
    "# Chuẩn hóa numeric: dùng mean/std từ train\n",
    "for col in numeric_cols:\n",
    "    mean = train_data_means[col]\n",
    "    std = train_data_stds[col] if train_data_stds[col] != 0 else 1e-8\n",
    "    test_data[col] = (test_data[col] - mean) / std\n",
    "\n",
    "# Bước 4: Tách X và Y\n",
    "y_test = test_data['Price']\n",
    "X_test = test_data.drop(columns=['Price'])\n",
    "\n",
    "# In thông tin để kiểm tra\n",
    "print(\"Sau khi tiền xử lý dữ liệu cho test_data:\")\n",
    "print(\"Test.shape = \", X_test.shape)\n",
    "print(\"Các cột trong X_test:\", list(X_test.columns))\n",
    "print(\"\\n5 dòng đầu trong X_test đã xử lý:\\n\")\n",
    "\n",
    "pd.set_option('display.max_columns', None)\n",
    "pd.set_option('display.width', 200)\n",
    "print(X_test.head())\n"
   ]
  },
  {
   "cell_type": "code",
   "execution_count": 56,
   "id": "3aa0d3b0",
   "metadata": {},
   "outputs": [
    {
     "name": "stdout",
     "output_type": "stream",
     "text": [
      "Columns in X_test: ['Year', 'Kilometer', 'Fuel Type', 'Transmission', 'Engine', 'Max Power', 'Seating Capacity', 'Fuel Tank Capacity']\n",
      "5 dòng dữ liệu đầu:\n",
      "        Year  Kilometer  Fuel Type  Transmission    Engine  Max Power  Seating Capacity  Fuel Tank Capacity\n",
      "0 -0.111554   0.321759  -0.902065     -1.089406  0.729731   0.421614          2.073393            1.762669\n",
      "1  1.351757  -0.829494   1.088752     -1.089406 -0.368184  -0.414471         -0.381535           -0.282456\n",
      "2 -0.696878  -0.190075   1.088752      0.917234 -1.361677  -1.265757         -0.381535           -1.113289\n",
      "3 -0.696878   0.479271  -0.902065      0.917234 -0.314482  -0.475277         -0.381535           -0.793738\n",
      "4  0.473770   0.243003   1.088752      0.917234 -1.334826  -1.144145         -0.381535           -1.305019\n"
     ]
    }
   ],
   "source": [
    "X_test_official = X_test[cols]\n",
    "print(\"Columns in X_test:\", list(X_test_official.columns))\n",
    "print(\"5 dòng dữ liệu đầu:\\n\", X_test_official.head())"
   ]
  },
  {
   "cell_type": "code",
   "execution_count": 57,
   "id": "a46e68e7",
   "metadata": {},
   "outputs": [],
   "source": [
    "# Tính mean và std của y_train\n",
    "y_test_mean = y_train.mean()\n",
    "y_test_std = y_train.std()\n",
    "\n",
    "# Chuẩn hóa y_train\n",
    "y_test_scaled = (y_test - y_test_mean) / y_test_std"
   ]
  },
  {
   "cell_type": "code",
   "execution_count": 58,
   "id": "1c88df30",
   "metadata": {},
   "outputs": [
    {
     "name": "stdout",
     "output_type": "stream",
     "text": [
      "Công thức 1:\n",
      "-> MSE (chuẩn hóa): 0.3219\n",
      "-> MSE (đơn vị gốc): 1865909306030.01\n",
      "----------------------------------------\n",
      "Công thức 2:\n",
      "-> MSE (chuẩn hóa): 0.3320\n",
      "-> MSE (đơn vị gốc): 1924671568021.79\n",
      "----------------------------------------\n",
      "Công thức 3:\n",
      "-> MSE (chuẩn hóa): 0.4175\n",
      "-> MSE (đơn vị gốc): 2419983973808.40\n",
      "----------------------------------------\n",
      "Công thức 4:\n",
      "-> MSE (chuẩn hóa): 0.4658\n",
      "-> MSE (đơn vị gốc): 2700327785841.75\n",
      "----------------------------------------\n",
      "Công thức 5:\n",
      "-> MSE (chuẩn hóa): 0.3290\n",
      "-> MSE (đơn vị gốc): 1907311721595.16\n",
      "----------------------------------------\n",
      "\n",
      "Công thức tốt nhất trên tập test là: Công thức 1\n"
     ]
    }
   ],
   "source": [
    "mse_test_list = []\n",
    "mse_test_scaled_list = []\n",
    "\n",
    "for i, (weights, formula) in enumerate(zip(\n",
    "    [weights1, weights2, weights3, weights4, weights5],\n",
    "    [formula_1, formula_2, formula_3, formula_4, formula_5_ridge]\n",
    "), 1):\n",
    "    # Biến đổi X_test theo công thức\n",
    "    X_test_transformed = formula(X_test_official.values)\n",
    "    \n",
    "    # Dự đoán chuẩn hóa\n",
    "    y_pred_scaled = np.dot(X_test_transformed, weights)\n",
    "    \n",
    "    # Dự đoán đơn vị gốc\n",
    "    y_pred_original = y_pred_scaled * y_std + y_mean\n",
    "\n",
    "    # MSE chuẩn hóa (so với y_test_scaled)\n",
    "    mse_scaled = mean_squared_error(y_test_scaled, y_pred_scaled)\n",
    "    mse_test_scaled_list.append(mse_scaled)\n",
    "\n",
    "    # MSE đơn vị gốc (so với y_test thật)\n",
    "    mse_original = mean_squared_error(y_test, y_pred_original)\n",
    "    mse_test_list.append(mse_original)\n",
    "\n",
    "    # In kết quả\n",
    "    print(f\"Công thức {i}:\")\n",
    "    print(f\"-> MSE (chuẩn hóa): {mse_scaled:.4f}\")\n",
    "    print(f\"-> MSE (đơn vị gốc): {mse_original:.2f}\")\n",
    "    print(\"-\" * 40)\n",
    "\n",
    "# Tìm công thức tốt nhất (dựa trên MSE gốc)\n",
    "best_index = mse_test_list.index(min(mse_test_list)) + 1\n",
    "print(f\"\\nCông thức tốt nhất trên tập test là: Công thức {best_index}\")"
   ]
  },
  {
   "cell_type": "markdown",
   "id": "3befc9a3",
   "metadata": {},
   "source": [
    "### 3.3 Thêm nhiễu"
   ]
  },
  {
   "cell_type": "code",
   "execution_count": 59,
   "id": "25c1fe05",
   "metadata": {},
   "outputs": [
    {
     "name": "stdout",
     "output_type": "stream",
     "text": [
      "ε = 0.5 → Công thức 1:\n",
      "MSE (gốc)       = 5504410965656.97\n",
      "MSE (chuẩn hoá) = 0.9496\n",
      "Weights         = [-0.01169835 -0.00840517  0.03287716 -0.01404447 -0.02163466 -0.0531078\n",
      " -0.01228119 -0.02013884]\n",
      "\n",
      "ε = 1 → Công thức 1:\n",
      "MSE (gốc)       = 5142831388954.36\n",
      "MSE (chuẩn hoá) = 0.8872\n",
      "Weights         = [-0.00276657 -0.00792643  0.08141063 -0.0296455  -0.02782982 -0.12720209\n",
      " -0.01571395 -0.04409308]\n",
      "\n",
      "ε = 20 → Công thức 1:\n",
      "MSE (gốc)       = 4335429503828.16\n",
      "MSE (chuẩn hoá) = 0.7479\n",
      "Weights         = [-0.00737591 -0.01332315  0.13391982 -0.05162951 -0.06991821 -0.21697588\n",
      " -0.05071729 -0.04790172]\n",
      "\n"
     ]
    }
   ],
   "source": [
    "# Lưu mean và std để chuẩn hóa và phục hồi lại đơn vị gốc\n",
    "y_mean = y_train.mean()\n",
    "y_std = y_train.std()\n",
    "\n",
    "# Chuẩn hóa y_train\n",
    "y_train_scaled = (y_train - y_mean) / y_std\n",
    "\n",
    "# Hàm thêm nhiễu Laplace vào dữ liệu X (chuẩn hóa)\n",
    "def add_laplace_noise(X, epsilon=1.0, sensitivity=1.0):\n",
    "    scale = sensitivity / epsilon\n",
    "    noise = np.random.laplace(loc=0, scale=scale, size=X.shape)\n",
    "    return X + noise\n",
    "\n",
    "# Các giá trị epsilon cần thử\n",
    "epsilon_values = [0.5, 1, 20]   # tương ứng với các mức: <1, 1-10, >10\n",
    "\n",
    "# # Kết quả lưu độ chính xác tương ứng với mỗi epsilon\n",
    "# results = []\n",
    "\n",
    "# for eps in epsilon_values:\n",
    "#     X_train_dp = add_laplace_noise(X_train, epsilon=eps)\n",
    "\n",
    "#     # Huấn luyện mô hình tuyến tính: y = Xw + b\n",
    "#     X_b = np.c_[np.ones((X_train_dp.shape[0], 1)), X_train_dp]  # thêm bias\n",
    "#     theta = np.linalg.pinv(X_b.T @ X_b) @ X_b.T @ y_train_scaled\n",
    "\n",
    "#     # Dự đoán và tính MSE trên tập train (dạng chuẩn hóa)\n",
    "#     y_pred_scaled = X_b @ theta\n",
    "#     mse_scaled = np.mean((y_pred_scaled - y_train_scaled) ** 2)\n",
    "\n",
    "#     # Phục hồi y_pred về đơn vị gốc\n",
    "#     y_pred_real = y_pred_scaled * y_std + y_mean\n",
    "#     mse_real = np.mean((y_pred_real - y_train) ** 2)\n",
    "\n",
    "#     results.append((eps, mse_scaled, mse_real))\n",
    "\n",
    "#     print(f\"Epsilon = {eps}, MSE (chuẩn hóa) = {mse_scaled:.4f}, MSE (gốc) = {mse_real:.2f}\")\n",
    "\n",
    "# Lưu kết quả\n",
    "results = []\n",
    "\n",
    "for eps in epsilon_values:\n",
    "    # Thêm nhiễu vào X_train\n",
    "    X_train_dp = add_laplace_noise(X_train, epsilon=eps)\n",
    "\n",
    "    # Dùng mô hình SGD Linear Regression với dữ liệu đã bị nhiễu\n",
    "    weights1, mse1, mse_scaled1 = sgd_linear_regression(\n",
    "        X_train_dp.values, y_train_scaled.values, formula_1, lambda_l2=0.0\n",
    "    )\n",
    "\n",
    "    results.append((eps, mse_scaled1, mse1))\n",
    "\n",
    "    print(f\"ε = {eps} → Công thức 1:\")\n",
    "    print(f\"MSE (gốc)       = {mse1:.2f}\")\n",
    "    print(f\"MSE (chuẩn hoá) = {mse_scaled1:.4f}\")\n",
    "    print(f\"Weights         = {weights1}\\n\")"
   ]
  },
  {
   "cell_type": "code",
   "execution_count": 60,
   "id": "8c0efefd",
   "metadata": {},
   "outputs": [
    {
     "name": "stdout",
     "output_type": "stream",
     "text": [
      "Tổng epsilon sau 5 lần huấn luyện với ε=0.5 là: 2.5\n"
     ]
    }
   ],
   "source": [
    "### PRIVACY ACCOUNTANT\n",
    "# Tính ε tích lũy nếu huấn luyện mô hình nhiều lần (basic composition)\n",
    "def compute_total_epsilon(epsilon_per_iter, n_iter):\n",
    "    return epsilon_per_iter * n_iter\n",
    "\n",
    "# Ví dụ: chạy 5 lần với epsilon = 0.5\n",
    "total_eps = compute_total_epsilon(0.5, 5)\n",
    "print(f\"Tổng epsilon sau 5 lần huấn luyện với ε=0.5 là: {total_eps}\")"
   ]
  },
  {
   "cell_type": "code",
   "execution_count": 61,
   "id": "bc5f55d9",
   "metadata": {},
   "outputs": [
    {
     "name": "stdout",
     "output_type": "stream",
     "text": [
      "Với ε = 0.5:  MSE (chuẩn hóa) = 0.9496, MSE (gốc) = 5504410965656.97 → ε nhỏ → riêng tư cao hơn, nhưng độ chính xác thấp hơn\n",
      "Với ε = 1:  MSE (chuẩn hóa) = 0.8872, MSE (gốc) = 5142831388954.36 → ε nhỏ → riêng tư cao hơn, nhưng độ chính xác thấp hơn\n",
      "Với ε = 20:  MSE (chuẩn hóa) = 0.7479, MSE (gốc) = 4335429503828.16 → ε nhỏ → riêng tư cao hơn, nhưng độ chính xác thấp hơn\n"
     ]
    }
   ],
   "source": [
    "for eps, mse_scaled, mse_real in results:\n",
    "    print(f\"Với ε = {eps}:  MSE (chuẩn hóa) = {mse_scaled:.4f}, MSE (gốc) = {mse_real:.2f} → ε nhỏ → riêng tư cao hơn, nhưng độ chính xác thấp hơn\")"
   ]
  },
  {
   "cell_type": "code",
   "execution_count": 62,
   "id": "7637ed91",
   "metadata": {},
   "outputs": [
    {
     "data": {
      "image/png": "[encoded data removed]",
      "text/plain": [
       "<Figure size 640x480 with 1 Axes>"
      ]
     },
     "metadata": {},
     "output_type": "display_data"
    }
   ],
   "source": [
    "### VẼ BIỂU ĐỒ\n",
    "plt.plot([r[0] for r in results], [r[2] for r in results], marker='o')  # dùng MSE gốc để vẽ\n",
    "plt.xlabel('Epsilon')\n",
    "plt.ylabel('MSE (gốc)')\n",
    "plt.title('Độ chính xác mô hình theo mức độ riêng tư (DP)')\n",
    "plt.grid(True)\n",
    "plt.show()"
   ]
  }
 ],
 "metadata": {
  "kernelspec": {
   "display_name": "Python 3",
   "language": "python",
   "name": "python3"
  },
  "language_info": {
   "codemirror_mode": {
    "name": "ipython",
    "version": 3
   },
   "file_extension": ".py",
   "mimetype": "text/x-python",
   "name": "python",
   "nbconvert_exporter": "python",
   "pygments_lexer": "ipython3",
   "version": "3.13.2"
  }
 },
 "nbformat": 4,
 "nbformat_minor": 5
}
