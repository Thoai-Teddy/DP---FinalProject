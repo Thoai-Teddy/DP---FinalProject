{
 "cells": [
  {
   "cell_type": "markdown",
   "id": "c0fc206c",
   "metadata": {},
   "source": [
    "# ĐỒ ÁN CUỐI KỲ - PHÂN TÍCH DỮ LIỆU BẢO TOÀN TÍNH RIÊNG TƯ"
   ]
  },
  {
   "cell_type": "markdown",
   "id": "fcce2c43",
   "metadata": {},
   "source": [
    "## THÀNH VIÊN NHÓM:\n",
    "\n",
    "- 22120304 - Nguyễn Thị Kim Quý\n",
    "\n",
    "- 22120338 - Đỗ Hạnh Thảo\n",
    "\n",
    "- 22120352 - Phạm Nguyễn Quang Thoại"
   ]
  }
 ],
 "metadata": {
  "language_info": {
   "name": "python"
  }
 },
 "nbformat": 4,
 "nbformat_minor": 5
}
